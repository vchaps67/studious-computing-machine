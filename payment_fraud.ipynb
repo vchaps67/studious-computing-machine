{
 "cells": [
  {
   "cell_type": "code",
   "execution_count": 199,
   "id": "354dc946-2e58-42cd-9d59-88a66f6c18e9",
   "metadata": {},
   "outputs": [],
   "source": [
    "# This project detects payment fraud and compares several models including one unsupervised model\n",
    "\n",
    "import numpy as np\n",
    "import pandas as pd\n",
    "import seaborn as sns\n",
    "import matplotlib.pyplot as plt\n",
    "from sklearn.preprocessing import LabelEncoder, StandardScaler, MinMaxScaler\n",
    "from sklearn.utils import resample\n",
    "from sklearn.model_selection import train_test_split, GridSearchCV\n",
    "from sklearn.linear_model import LogisticRegression\n",
    "from sklearn.metrics import confusion_matrix, classification_report, accuracy_score,precision_score, recall_score, f1_score, confusion_matrix\n",
    "from sklearn.ensemble import RandomForestClassifier, GradientBoostingClassifier\n",
    "import xgboost as xgb\n",
    "from sklearn.tree import DecisionTreeClassifier\n",
    "from sklearn.svm import SVC\n",
    "from sklearn.neighbors import KNeighborsClassifier\n",
    "from sklearn.naive_bayes import GaussianNB\n",
    "from sklearn.ensemble import IsolationForest\n"
   ]
  },
  {
   "cell_type": "code",
   "execution_count": 2,
   "id": "3265a7a7-0942-493a-adbe-4e69ffe26681",
   "metadata": {},
   "outputs": [],
   "source": [
    "# Data is in several files which are imported\n",
    "accounts_data = pd.read_csv (\"C:/Users/vincent.chaparadza/Desktop/Dataset/Fraud_Detection/Data/Customer Profiles/account_activity.csv\")"
   ]
  },
  {
   "cell_type": "code",
   "execution_count": 3,
   "id": "044bb804-c4d7-497d-bb80-bd12943fc57d",
   "metadata": {},
   "outputs": [],
   "source": [
    "customers_data= pd.read_csv (\"C:/Users/vincent.chaparadza/Desktop/Dataset/Fraud_Detection/Data/Customer Profiles/customer_data.csv\")"
   ]
  },
  {
   "cell_type": "code",
   "execution_count": 4,
   "id": "5ce4a591-b625-43ab-8394-e379051d7b9f",
   "metadata": {},
   "outputs": [],
   "source": [
    "is_fraud= pd.read_csv(\"C:/Users/vincent.chaparadza/Desktop/Dataset/Fraud_Detection/Data/Fraudulent Patterns/fraud_indicators.csv\")"
   ]
  },
  {
   "cell_type": "code",
   "execution_count": 5,
   "id": "3febee5d-701a-4ffc-a7d0-6575b99e14d8",
   "metadata": {},
   "outputs": [],
   "source": [
    "is_suspicious= pd.read_csv(\"C:/Users/vincent.chaparadza/Desktop/Dataset/Fraud_Detection/Data/Fraudulent Patterns/suspicious_activity.csv\")"
   ]
  },
  {
   "cell_type": "code",
   "execution_count": 6,
   "id": "015dc285-3cd8-4e10-b93c-a6b6e1ff74c8",
   "metadata": {},
   "outputs": [],
   "source": [
    "merchant_data= pd.read_csv(\"C:/Users/vincent.chaparadza/Desktop/Dataset/Fraud_Detection/Data/Merchant Information/merchant_data.csv\")"
   ]
  },
  {
   "cell_type": "code",
   "execution_count": 7,
   "id": "644a5542-35dd-48ff-b0da-406f85e557ad",
   "metadata": {},
   "outputs": [],
   "source": [
    "transaction_category= pd.read_csv(\"C:/Users/vincent.chaparadza/Desktop/Dataset/Fraud_Detection/Data/Merchant Information/transaction_category_labels.csv\")"
   ]
  },
  {
   "cell_type": "code",
   "execution_count": 8,
   "id": "37941009-9a09-46a0-b910-2d3543ff17c1",
   "metadata": {},
   "outputs": [],
   "source": [
    "amount_data= pd.read_csv(\"C:/Users/vincent.chaparadza/Desktop/Dataset/Fraud_Detection/Data/Transaction Amounts/amount_data.csv\")"
   ]
  },
  {
   "cell_type": "code",
   "execution_count": 9,
   "id": "7b387885-38f0-4ff9-af6e-989353da0832",
   "metadata": {},
   "outputs": [],
   "source": [
    "anomaly_score=pd.read_csv(\"C:/Users/vincent.chaparadza/Desktop/Dataset/Fraud_Detection/Data/Transaction Amounts/anomaly_scores.csv\")"
   ]
  },
  {
   "cell_type": "code",
   "execution_count": 10,
   "id": "d0d7bfc7-f4ac-4dbd-bf38-1861037cf479",
   "metadata": {},
   "outputs": [],
   "source": [
    "transaction_data= pd.read_csv(\"C:/Users/vincent.chaparadza/Desktop/Dataset/Fraud_Detection/Data/Transaction Data/transaction_metadata.csv\")"
   ]
  },
  {
   "cell_type": "code",
   "execution_count": 11,
   "id": "5b2c67a7-ded8-4f55-bf79-3d39ba531ade",
   "metadata": {},
   "outputs": [],
   "source": [
    "transaction_rec=pd.read_csv(\"C:/Users/vincent.chaparadza/Desktop/Dataset/Fraud_Detection/Data/Transaction Data/transaction_records.csv\")"
   ]
  },
  {
   "cell_type": "code",
   "execution_count": 12,
   "id": "bde76410-981a-4fe3-8807-bdf2d77ffa1c",
   "metadata": {},
   "outputs": [
    {
     "data": {
      "text/html": [
       "<div>\n",
       "<style scoped>\n",
       "    .dataframe tbody tr th:only-of-type {\n",
       "        vertical-align: middle;\n",
       "    }\n",
       "\n",
       "    .dataframe tbody tr th {\n",
       "        vertical-align: top;\n",
       "    }\n",
       "\n",
       "    .dataframe thead th {\n",
       "        text-align: right;\n",
       "    }\n",
       "</style>\n",
       "<table border=\"1\" class=\"dataframe\">\n",
       "  <thead>\n",
       "    <tr style=\"text-align: right;\">\n",
       "      <th></th>\n",
       "      <th>CustomerID</th>\n",
       "      <th>AccountBalance</th>\n",
       "      <th>LastLogin</th>\n",
       "    </tr>\n",
       "  </thead>\n",
       "  <tbody>\n",
       "    <tr>\n",
       "      <th>0</th>\n",
       "      <td>1001</td>\n",
       "      <td>9507.272060</td>\n",
       "      <td>2022-01-01</td>\n",
       "    </tr>\n",
       "    <tr>\n",
       "      <th>1</th>\n",
       "      <td>1002</td>\n",
       "      <td>7408.704536</td>\n",
       "      <td>2022-01-02</td>\n",
       "    </tr>\n",
       "    <tr>\n",
       "      <th>2</th>\n",
       "      <td>1003</td>\n",
       "      <td>1715.321989</td>\n",
       "      <td>2022-01-03</td>\n",
       "    </tr>\n",
       "    <tr>\n",
       "      <th>3</th>\n",
       "      <td>1004</td>\n",
       "      <td>3101.509134</td>\n",
       "      <td>2022-01-04</td>\n",
       "    </tr>\n",
       "    <tr>\n",
       "      <th>4</th>\n",
       "      <td>1005</td>\n",
       "      <td>5405.766914</td>\n",
       "      <td>2022-01-05</td>\n",
       "    </tr>\n",
       "  </tbody>\n",
       "</table>\n",
       "</div>"
      ],
      "text/plain": [
       "   CustomerID  AccountBalance   LastLogin\n",
       "0        1001     9507.272060  2022-01-01\n",
       "1        1002     7408.704536  2022-01-02\n",
       "2        1003     1715.321989  2022-01-03\n",
       "3        1004     3101.509134  2022-01-04\n",
       "4        1005     5405.766914  2022-01-05"
      ]
     },
     "execution_count": 12,
     "metadata": {},
     "output_type": "execute_result"
    }
   ],
   "source": [
    "accounts_data.head()"
   ]
  },
  {
   "cell_type": "code",
   "execution_count": 13,
   "id": "86fa1058-11fd-4aa8-a680-54aacfafbfde",
   "metadata": {},
   "outputs": [
    {
     "name": "stdout",
     "output_type": "stream",
     "text": [
      "<class 'pandas.core.frame.DataFrame'>\n",
      "RangeIndex: 1000 entries, 0 to 999\n",
      "Data columns (total 3 columns):\n",
      " #   Column          Non-Null Count  Dtype  \n",
      "---  ------          --------------  -----  \n",
      " 0   CustomerID      1000 non-null   int64  \n",
      " 1   AccountBalance  1000 non-null   float64\n",
      " 2   LastLogin       1000 non-null   object \n",
      "dtypes: float64(1), int64(1), object(1)\n",
      "memory usage: 23.6+ KB\n"
     ]
    }
   ],
   "source": [
    "accounts_data.info()"
   ]
  },
  {
   "cell_type": "code",
   "execution_count": 14,
   "id": "57ef1be6-88d8-487d-a488-8fe8a1a51d9b",
   "metadata": {},
   "outputs": [
    {
     "data": {
      "text/html": [
       "<div>\n",
       "<style scoped>\n",
       "    .dataframe tbody tr th:only-of-type {\n",
       "        vertical-align: middle;\n",
       "    }\n",
       "\n",
       "    .dataframe tbody tr th {\n",
       "        vertical-align: top;\n",
       "    }\n",
       "\n",
       "    .dataframe thead th {\n",
       "        text-align: right;\n",
       "    }\n",
       "</style>\n",
       "<table border=\"1\" class=\"dataframe\">\n",
       "  <thead>\n",
       "    <tr style=\"text-align: right;\">\n",
       "      <th></th>\n",
       "      <th>CustomerID</th>\n",
       "      <th>Name</th>\n",
       "      <th>Age</th>\n",
       "      <th>Address</th>\n",
       "    </tr>\n",
       "  </thead>\n",
       "  <tbody>\n",
       "    <tr>\n",
       "      <th>0</th>\n",
       "      <td>1001</td>\n",
       "      <td>Customer 1001</td>\n",
       "      <td>54</td>\n",
       "      <td>Address 1001</td>\n",
       "    </tr>\n",
       "    <tr>\n",
       "      <th>1</th>\n",
       "      <td>1002</td>\n",
       "      <td>Customer 1002</td>\n",
       "      <td>35</td>\n",
       "      <td>Address 1002</td>\n",
       "    </tr>\n",
       "    <tr>\n",
       "      <th>2</th>\n",
       "      <td>1003</td>\n",
       "      <td>Customer 1003</td>\n",
       "      <td>40</td>\n",
       "      <td>Address 1003</td>\n",
       "    </tr>\n",
       "    <tr>\n",
       "      <th>3</th>\n",
       "      <td>1004</td>\n",
       "      <td>Customer 1004</td>\n",
       "      <td>30</td>\n",
       "      <td>Address 1004</td>\n",
       "    </tr>\n",
       "    <tr>\n",
       "      <th>4</th>\n",
       "      <td>1005</td>\n",
       "      <td>Customer 1005</td>\n",
       "      <td>46</td>\n",
       "      <td>Address 1005</td>\n",
       "    </tr>\n",
       "  </tbody>\n",
       "</table>\n",
       "</div>"
      ],
      "text/plain": [
       "   CustomerID           Name  Age       Address\n",
       "0        1001  Customer 1001   54  Address 1001\n",
       "1        1002  Customer 1002   35  Address 1002\n",
       "2        1003  Customer 1003   40  Address 1003\n",
       "3        1004  Customer 1004   30  Address 1004\n",
       "4        1005  Customer 1005   46  Address 1005"
      ]
     },
     "execution_count": 14,
     "metadata": {},
     "output_type": "execute_result"
    }
   ],
   "source": [
    "customers_data.head()"
   ]
  },
  {
   "cell_type": "code",
   "execution_count": 15,
   "id": "6725f552-476e-4350-adb8-72df96eae91c",
   "metadata": {},
   "outputs": [
    {
     "data": {
      "text/html": [
       "<div>\n",
       "<style scoped>\n",
       "    .dataframe tbody tr th:only-of-type {\n",
       "        vertical-align: middle;\n",
       "    }\n",
       "\n",
       "    .dataframe tbody tr th {\n",
       "        vertical-align: top;\n",
       "    }\n",
       "\n",
       "    .dataframe thead th {\n",
       "        text-align: right;\n",
       "    }\n",
       "</style>\n",
       "<table border=\"1\" class=\"dataframe\">\n",
       "  <thead>\n",
       "    <tr style=\"text-align: right;\">\n",
       "      <th></th>\n",
       "      <th>TransactionID</th>\n",
       "      <th>FraudIndicator</th>\n",
       "    </tr>\n",
       "  </thead>\n",
       "  <tbody>\n",
       "    <tr>\n",
       "      <th>0</th>\n",
       "      <td>1</td>\n",
       "      <td>0</td>\n",
       "    </tr>\n",
       "    <tr>\n",
       "      <th>1</th>\n",
       "      <td>2</td>\n",
       "      <td>0</td>\n",
       "    </tr>\n",
       "    <tr>\n",
       "      <th>2</th>\n",
       "      <td>3</td>\n",
       "      <td>0</td>\n",
       "    </tr>\n",
       "    <tr>\n",
       "      <th>3</th>\n",
       "      <td>4</td>\n",
       "      <td>0</td>\n",
       "    </tr>\n",
       "    <tr>\n",
       "      <th>4</th>\n",
       "      <td>5</td>\n",
       "      <td>0</td>\n",
       "    </tr>\n",
       "  </tbody>\n",
       "</table>\n",
       "</div>"
      ],
      "text/plain": [
       "   TransactionID  FraudIndicator\n",
       "0              1               0\n",
       "1              2               0\n",
       "2              3               0\n",
       "3              4               0\n",
       "4              5               0"
      ]
     },
     "execution_count": 15,
     "metadata": {},
     "output_type": "execute_result"
    }
   ],
   "source": [
    "is_fraud.head()"
   ]
  },
  {
   "cell_type": "code",
   "execution_count": 16,
   "id": "7958e58e-2761-4efb-a08f-b697f3ba5214",
   "metadata": {},
   "outputs": [
    {
     "name": "stdout",
     "output_type": "stream",
     "text": [
      "<class 'pandas.core.frame.DataFrame'>\n",
      "RangeIndex: 1000 entries, 0 to 999\n",
      "Data columns (total 2 columns):\n",
      " #   Column          Non-Null Count  Dtype\n",
      "---  ------          --------------  -----\n",
      " 0   TransactionID   1000 non-null   int64\n",
      " 1   FraudIndicator  1000 non-null   int64\n",
      "dtypes: int64(2)\n",
      "memory usage: 15.8 KB\n"
     ]
    }
   ],
   "source": [
    "is_fraud.info()"
   ]
  },
  {
   "cell_type": "code",
   "execution_count": 17,
   "id": "22784163-dfb1-41d0-bdee-3ba10556dadc",
   "metadata": {},
   "outputs": [
    {
     "data": {
      "text/html": [
       "<div>\n",
       "<style scoped>\n",
       "    .dataframe tbody tr th:only-of-type {\n",
       "        vertical-align: middle;\n",
       "    }\n",
       "\n",
       "    .dataframe tbody tr th {\n",
       "        vertical-align: top;\n",
       "    }\n",
       "\n",
       "    .dataframe thead th {\n",
       "        text-align: right;\n",
       "    }\n",
       "</style>\n",
       "<table border=\"1\" class=\"dataframe\">\n",
       "  <thead>\n",
       "    <tr style=\"text-align: right;\">\n",
       "      <th></th>\n",
       "      <th>CustomerID</th>\n",
       "      <th>SuspiciousFlag</th>\n",
       "    </tr>\n",
       "  </thead>\n",
       "  <tbody>\n",
       "    <tr>\n",
       "      <th>0</th>\n",
       "      <td>1001</td>\n",
       "      <td>0</td>\n",
       "    </tr>\n",
       "    <tr>\n",
       "      <th>1</th>\n",
       "      <td>1002</td>\n",
       "      <td>0</td>\n",
       "    </tr>\n",
       "    <tr>\n",
       "      <th>2</th>\n",
       "      <td>1003</td>\n",
       "      <td>0</td>\n",
       "    </tr>\n",
       "    <tr>\n",
       "      <th>3</th>\n",
       "      <td>1004</td>\n",
       "      <td>0</td>\n",
       "    </tr>\n",
       "    <tr>\n",
       "      <th>4</th>\n",
       "      <td>1005</td>\n",
       "      <td>0</td>\n",
       "    </tr>\n",
       "  </tbody>\n",
       "</table>\n",
       "</div>"
      ],
      "text/plain": [
       "   CustomerID  SuspiciousFlag\n",
       "0        1001               0\n",
       "1        1002               0\n",
       "2        1003               0\n",
       "3        1004               0\n",
       "4        1005               0"
      ]
     },
     "execution_count": 17,
     "metadata": {},
     "output_type": "execute_result"
    }
   ],
   "source": [
    "is_suspicious.head()"
   ]
  },
  {
   "cell_type": "code",
   "execution_count": 18,
   "id": "17c2a951-f638-43f3-80a7-d91ecba0f9f5",
   "metadata": {},
   "outputs": [
    {
     "data": {
      "text/html": [
       "<div>\n",
       "<style scoped>\n",
       "    .dataframe tbody tr th:only-of-type {\n",
       "        vertical-align: middle;\n",
       "    }\n",
       "\n",
       "    .dataframe tbody tr th {\n",
       "        vertical-align: top;\n",
       "    }\n",
       "\n",
       "    .dataframe thead th {\n",
       "        text-align: right;\n",
       "    }\n",
       "</style>\n",
       "<table border=\"1\" class=\"dataframe\">\n",
       "  <thead>\n",
       "    <tr style=\"text-align: right;\">\n",
       "      <th></th>\n",
       "      <th>MerchantID</th>\n",
       "      <th>MerchantName</th>\n",
       "      <th>Location</th>\n",
       "    </tr>\n",
       "  </thead>\n",
       "  <tbody>\n",
       "    <tr>\n",
       "      <th>0</th>\n",
       "      <td>2001</td>\n",
       "      <td>Merchant 2001</td>\n",
       "      <td>Location 2001</td>\n",
       "    </tr>\n",
       "    <tr>\n",
       "      <th>1</th>\n",
       "      <td>2002</td>\n",
       "      <td>Merchant 2002</td>\n",
       "      <td>Location 2002</td>\n",
       "    </tr>\n",
       "    <tr>\n",
       "      <th>2</th>\n",
       "      <td>2003</td>\n",
       "      <td>Merchant 2003</td>\n",
       "      <td>Location 2003</td>\n",
       "    </tr>\n",
       "    <tr>\n",
       "      <th>3</th>\n",
       "      <td>2004</td>\n",
       "      <td>Merchant 2004</td>\n",
       "      <td>Location 2004</td>\n",
       "    </tr>\n",
       "    <tr>\n",
       "      <th>4</th>\n",
       "      <td>2005</td>\n",
       "      <td>Merchant 2005</td>\n",
       "      <td>Location 2005</td>\n",
       "    </tr>\n",
       "  </tbody>\n",
       "</table>\n",
       "</div>"
      ],
      "text/plain": [
       "   MerchantID   MerchantName       Location\n",
       "0        2001  Merchant 2001  Location 2001\n",
       "1        2002  Merchant 2002  Location 2002\n",
       "2        2003  Merchant 2003  Location 2003\n",
       "3        2004  Merchant 2004  Location 2004\n",
       "4        2005  Merchant 2005  Location 2005"
      ]
     },
     "execution_count": 18,
     "metadata": {},
     "output_type": "execute_result"
    }
   ],
   "source": [
    "merchant_data.head()"
   ]
  },
  {
   "cell_type": "code",
   "execution_count": 19,
   "id": "afb22135-bffb-4e0e-9b15-4218eb36253d",
   "metadata": {},
   "outputs": [
    {
     "name": "stdout",
     "output_type": "stream",
     "text": [
      "<class 'pandas.core.frame.DataFrame'>\n",
      "RangeIndex: 1000 entries, 0 to 999\n",
      "Data columns (total 3 columns):\n",
      " #   Column        Non-Null Count  Dtype \n",
      "---  ------        --------------  ----- \n",
      " 0   MerchantID    1000 non-null   int64 \n",
      " 1   MerchantName  1000 non-null   object\n",
      " 2   Location      1000 non-null   object\n",
      "dtypes: int64(1), object(2)\n",
      "memory usage: 23.6+ KB\n"
     ]
    }
   ],
   "source": [
    "merchant_data.info()"
   ]
  },
  {
   "cell_type": "code",
   "execution_count": 20,
   "id": "89be2169-204b-43a7-bb3d-c37e9540579d",
   "metadata": {},
   "outputs": [
    {
     "data": {
      "text/html": [
       "<div>\n",
       "<style scoped>\n",
       "    .dataframe tbody tr th:only-of-type {\n",
       "        vertical-align: middle;\n",
       "    }\n",
       "\n",
       "    .dataframe tbody tr th {\n",
       "        vertical-align: top;\n",
       "    }\n",
       "\n",
       "    .dataframe thead th {\n",
       "        text-align: right;\n",
       "    }\n",
       "</style>\n",
       "<table border=\"1\" class=\"dataframe\">\n",
       "  <thead>\n",
       "    <tr style=\"text-align: right;\">\n",
       "      <th></th>\n",
       "      <th>TransactionID</th>\n",
       "      <th>Category</th>\n",
       "    </tr>\n",
       "  </thead>\n",
       "  <tbody>\n",
       "    <tr>\n",
       "      <th>0</th>\n",
       "      <td>1</td>\n",
       "      <td>Other</td>\n",
       "    </tr>\n",
       "    <tr>\n",
       "      <th>1</th>\n",
       "      <td>2</td>\n",
       "      <td>Online</td>\n",
       "    </tr>\n",
       "    <tr>\n",
       "      <th>2</th>\n",
       "      <td>3</td>\n",
       "      <td>Travel</td>\n",
       "    </tr>\n",
       "    <tr>\n",
       "      <th>3</th>\n",
       "      <td>4</td>\n",
       "      <td>Travel</td>\n",
       "    </tr>\n",
       "    <tr>\n",
       "      <th>4</th>\n",
       "      <td>5</td>\n",
       "      <td>Other</td>\n",
       "    </tr>\n",
       "  </tbody>\n",
       "</table>\n",
       "</div>"
      ],
      "text/plain": [
       "   TransactionID Category\n",
       "0              1    Other\n",
       "1              2   Online\n",
       "2              3   Travel\n",
       "3              4   Travel\n",
       "4              5    Other"
      ]
     },
     "execution_count": 20,
     "metadata": {},
     "output_type": "execute_result"
    }
   ],
   "source": [
    "transaction_category.head()"
   ]
  },
  {
   "cell_type": "code",
   "execution_count": 21,
   "id": "7b16e1a0-4418-4d73-b39f-5049b468a913",
   "metadata": {},
   "outputs": [
    {
     "data": {
      "text/html": [
       "<div>\n",
       "<style scoped>\n",
       "    .dataframe tbody tr th:only-of-type {\n",
       "        vertical-align: middle;\n",
       "    }\n",
       "\n",
       "    .dataframe tbody tr th {\n",
       "        vertical-align: top;\n",
       "    }\n",
       "\n",
       "    .dataframe thead th {\n",
       "        text-align: right;\n",
       "    }\n",
       "</style>\n",
       "<table border=\"1\" class=\"dataframe\">\n",
       "  <thead>\n",
       "    <tr style=\"text-align: right;\">\n",
       "      <th></th>\n",
       "      <th>TransactionID</th>\n",
       "      <th>Timestamp</th>\n",
       "      <th>MerchantID</th>\n",
       "    </tr>\n",
       "  </thead>\n",
       "  <tbody>\n",
       "    <tr>\n",
       "      <th>0</th>\n",
       "      <td>1</td>\n",
       "      <td>2022-01-01 00:00:00</td>\n",
       "      <td>2701</td>\n",
       "    </tr>\n",
       "    <tr>\n",
       "      <th>1</th>\n",
       "      <td>2</td>\n",
       "      <td>2022-01-01 01:00:00</td>\n",
       "      <td>2070</td>\n",
       "    </tr>\n",
       "    <tr>\n",
       "      <th>2</th>\n",
       "      <td>3</td>\n",
       "      <td>2022-01-01 02:00:00</td>\n",
       "      <td>2238</td>\n",
       "    </tr>\n",
       "    <tr>\n",
       "      <th>3</th>\n",
       "      <td>4</td>\n",
       "      <td>2022-01-01 03:00:00</td>\n",
       "      <td>2879</td>\n",
       "    </tr>\n",
       "    <tr>\n",
       "      <th>4</th>\n",
       "      <td>5</td>\n",
       "      <td>2022-01-01 04:00:00</td>\n",
       "      <td>2966</td>\n",
       "    </tr>\n",
       "  </tbody>\n",
       "</table>\n",
       "</div>"
      ],
      "text/plain": [
       "   TransactionID            Timestamp  MerchantID\n",
       "0              1  2022-01-01 00:00:00        2701\n",
       "1              2  2022-01-01 01:00:00        2070\n",
       "2              3  2022-01-01 02:00:00        2238\n",
       "3              4  2022-01-01 03:00:00        2879\n",
       "4              5  2022-01-01 04:00:00        2966"
      ]
     },
     "execution_count": 21,
     "metadata": {},
     "output_type": "execute_result"
    }
   ],
   "source": [
    "transaction_data.head()"
   ]
  },
  {
   "cell_type": "code",
   "execution_count": 22,
   "id": "2cc210dd-0a67-49c1-a8aa-eab3d7d39d02",
   "metadata": {},
   "outputs": [
    {
     "data": {
      "text/html": [
       "<div>\n",
       "<style scoped>\n",
       "    .dataframe tbody tr th:only-of-type {\n",
       "        vertical-align: middle;\n",
       "    }\n",
       "\n",
       "    .dataframe tbody tr th {\n",
       "        vertical-align: top;\n",
       "    }\n",
       "\n",
       "    .dataframe thead th {\n",
       "        text-align: right;\n",
       "    }\n",
       "</style>\n",
       "<table border=\"1\" class=\"dataframe\">\n",
       "  <thead>\n",
       "    <tr style=\"text-align: right;\">\n",
       "      <th></th>\n",
       "      <th>TransactionID</th>\n",
       "      <th>Amount</th>\n",
       "      <th>CustomerID</th>\n",
       "    </tr>\n",
       "  </thead>\n",
       "  <tbody>\n",
       "    <tr>\n",
       "      <th>0</th>\n",
       "      <td>1</td>\n",
       "      <td>55.530334</td>\n",
       "      <td>1952</td>\n",
       "    </tr>\n",
       "    <tr>\n",
       "      <th>1</th>\n",
       "      <td>2</td>\n",
       "      <td>12.881180</td>\n",
       "      <td>1027</td>\n",
       "    </tr>\n",
       "    <tr>\n",
       "      <th>2</th>\n",
       "      <td>3</td>\n",
       "      <td>50.176322</td>\n",
       "      <td>1955</td>\n",
       "    </tr>\n",
       "    <tr>\n",
       "      <th>3</th>\n",
       "      <td>4</td>\n",
       "      <td>41.634001</td>\n",
       "      <td>1796</td>\n",
       "    </tr>\n",
       "    <tr>\n",
       "      <th>4</th>\n",
       "      <td>5</td>\n",
       "      <td>78.122853</td>\n",
       "      <td>1946</td>\n",
       "    </tr>\n",
       "  </tbody>\n",
       "</table>\n",
       "</div>"
      ],
      "text/plain": [
       "   TransactionID     Amount  CustomerID\n",
       "0              1  55.530334        1952\n",
       "1              2  12.881180        1027\n",
       "2              3  50.176322        1955\n",
       "3              4  41.634001        1796\n",
       "4              5  78.122853        1946"
      ]
     },
     "execution_count": 22,
     "metadata": {},
     "output_type": "execute_result"
    }
   ],
   "source": [
    "transaction_rec.head()"
   ]
  },
  {
   "cell_type": "code",
   "execution_count": 23,
   "id": "2a80e709-6e39-4cde-a100-5d4f419efdef",
   "metadata": {},
   "outputs": [
    {
     "data": {
      "text/html": [
       "<div>\n",
       "<style scoped>\n",
       "    .dataframe tbody tr th:only-of-type {\n",
       "        vertical-align: middle;\n",
       "    }\n",
       "\n",
       "    .dataframe tbody tr th {\n",
       "        vertical-align: top;\n",
       "    }\n",
       "\n",
       "    .dataframe thead th {\n",
       "        text-align: right;\n",
       "    }\n",
       "</style>\n",
       "<table border=\"1\" class=\"dataframe\">\n",
       "  <thead>\n",
       "    <tr style=\"text-align: right;\">\n",
       "      <th></th>\n",
       "      <th>TransactionID</th>\n",
       "      <th>TransactionAmount</th>\n",
       "    </tr>\n",
       "  </thead>\n",
       "  <tbody>\n",
       "    <tr>\n",
       "      <th>0</th>\n",
       "      <td>1</td>\n",
       "      <td>79.413607</td>\n",
       "    </tr>\n",
       "    <tr>\n",
       "      <th>1</th>\n",
       "      <td>2</td>\n",
       "      <td>12.053087</td>\n",
       "    </tr>\n",
       "    <tr>\n",
       "      <th>2</th>\n",
       "      <td>3</td>\n",
       "      <td>33.310357</td>\n",
       "    </tr>\n",
       "    <tr>\n",
       "      <th>3</th>\n",
       "      <td>4</td>\n",
       "      <td>46.121117</td>\n",
       "    </tr>\n",
       "    <tr>\n",
       "      <th>4</th>\n",
       "      <td>5</td>\n",
       "      <td>54.051618</td>\n",
       "    </tr>\n",
       "  </tbody>\n",
       "</table>\n",
       "</div>"
      ],
      "text/plain": [
       "   TransactionID  TransactionAmount\n",
       "0              1          79.413607\n",
       "1              2          12.053087\n",
       "2              3          33.310357\n",
       "3              4          46.121117\n",
       "4              5          54.051618"
      ]
     },
     "execution_count": 23,
     "metadata": {},
     "output_type": "execute_result"
    }
   ],
   "source": [
    "amount_data.head()"
   ]
  },
  {
   "cell_type": "code",
   "execution_count": null,
   "id": "07dd3856-ca19-47f4-b0ea-c18b145158b5",
   "metadata": {},
   "outputs": [],
   "source": []
  },
  {
   "cell_type": "code",
   "execution_count": 24,
   "id": "e56d607f-6848-4b3b-8501-173d76238b96",
   "metadata": {},
   "outputs": [
    {
     "data": {
      "text/html": [
       "<div>\n",
       "<style scoped>\n",
       "    .dataframe tbody tr th:only-of-type {\n",
       "        vertical-align: middle;\n",
       "    }\n",
       "\n",
       "    .dataframe tbody tr th {\n",
       "        vertical-align: top;\n",
       "    }\n",
       "\n",
       "    .dataframe thead th {\n",
       "        text-align: right;\n",
       "    }\n",
       "</style>\n",
       "<table border=\"1\" class=\"dataframe\">\n",
       "  <thead>\n",
       "    <tr style=\"text-align: right;\">\n",
       "      <th></th>\n",
       "      <th>TransactionID</th>\n",
       "      <th>AnomalyScore</th>\n",
       "    </tr>\n",
       "  </thead>\n",
       "  <tbody>\n",
       "    <tr>\n",
       "      <th>0</th>\n",
       "      <td>1</td>\n",
       "      <td>0.686699</td>\n",
       "    </tr>\n",
       "    <tr>\n",
       "      <th>1</th>\n",
       "      <td>2</td>\n",
       "      <td>0.081749</td>\n",
       "    </tr>\n",
       "    <tr>\n",
       "      <th>2</th>\n",
       "      <td>3</td>\n",
       "      <td>0.023857</td>\n",
       "    </tr>\n",
       "    <tr>\n",
       "      <th>3</th>\n",
       "      <td>4</td>\n",
       "      <td>0.876994</td>\n",
       "    </tr>\n",
       "    <tr>\n",
       "      <th>4</th>\n",
       "      <td>5</td>\n",
       "      <td>0.034059</td>\n",
       "    </tr>\n",
       "  </tbody>\n",
       "</table>\n",
       "</div>"
      ],
      "text/plain": [
       "   TransactionID  AnomalyScore\n",
       "0              1      0.686699\n",
       "1              2      0.081749\n",
       "2              3      0.023857\n",
       "3              4      0.876994\n",
       "4              5      0.034059"
      ]
     },
     "execution_count": 24,
     "metadata": {},
     "output_type": "execute_result"
    }
   ],
   "source": [
    "anomaly_score.head()"
   ]
  },
  {
   "cell_type": "code",
   "execution_count": 25,
   "id": "93f48824-f527-4582-bf60-da9fe0ef0274",
   "metadata": {},
   "outputs": [],
   "source": [
    "# merging customer data\n",
    "customers = pd.merge(accounts_data,customers_data, on = 'CustomerID')"
   ]
  },
  {
   "cell_type": "code",
   "execution_count": 26,
   "id": "aae056d1-3b38-4caf-bb7e-2f8a8cbed97e",
   "metadata": {},
   "outputs": [],
   "source": [
    "customers= pd.merge(customers, is_suspicious, on = 'CustomerID')"
   ]
  },
  {
   "cell_type": "code",
   "execution_count": 27,
   "id": "7cf34887-3037-4bb0-bc9f-a7f7c5f3ad66",
   "metadata": {},
   "outputs": [
    {
     "data": {
      "text/html": [
       "<div>\n",
       "<style scoped>\n",
       "    .dataframe tbody tr th:only-of-type {\n",
       "        vertical-align: middle;\n",
       "    }\n",
       "\n",
       "    .dataframe tbody tr th {\n",
       "        vertical-align: top;\n",
       "    }\n",
       "\n",
       "    .dataframe thead th {\n",
       "        text-align: right;\n",
       "    }\n",
       "</style>\n",
       "<table border=\"1\" class=\"dataframe\">\n",
       "  <thead>\n",
       "    <tr style=\"text-align: right;\">\n",
       "      <th></th>\n",
       "      <th>CustomerID</th>\n",
       "      <th>AccountBalance</th>\n",
       "      <th>LastLogin</th>\n",
       "      <th>Name</th>\n",
       "      <th>Age</th>\n",
       "      <th>Address</th>\n",
       "      <th>SuspiciousFlag</th>\n",
       "    </tr>\n",
       "  </thead>\n",
       "  <tbody>\n",
       "    <tr>\n",
       "      <th>0</th>\n",
       "      <td>1001</td>\n",
       "      <td>9507.272060</td>\n",
       "      <td>2022-01-01</td>\n",
       "      <td>Customer 1001</td>\n",
       "      <td>54</td>\n",
       "      <td>Address 1001</td>\n",
       "      <td>0</td>\n",
       "    </tr>\n",
       "    <tr>\n",
       "      <th>1</th>\n",
       "      <td>1002</td>\n",
       "      <td>7408.704536</td>\n",
       "      <td>2022-01-02</td>\n",
       "      <td>Customer 1002</td>\n",
       "      <td>35</td>\n",
       "      <td>Address 1002</td>\n",
       "      <td>0</td>\n",
       "    </tr>\n",
       "    <tr>\n",
       "      <th>2</th>\n",
       "      <td>1003</td>\n",
       "      <td>1715.321989</td>\n",
       "      <td>2022-01-03</td>\n",
       "      <td>Customer 1003</td>\n",
       "      <td>40</td>\n",
       "      <td>Address 1003</td>\n",
       "      <td>0</td>\n",
       "    </tr>\n",
       "    <tr>\n",
       "      <th>3</th>\n",
       "      <td>1004</td>\n",
       "      <td>3101.509134</td>\n",
       "      <td>2022-01-04</td>\n",
       "      <td>Customer 1004</td>\n",
       "      <td>30</td>\n",
       "      <td>Address 1004</td>\n",
       "      <td>0</td>\n",
       "    </tr>\n",
       "    <tr>\n",
       "      <th>4</th>\n",
       "      <td>1005</td>\n",
       "      <td>5405.766914</td>\n",
       "      <td>2022-01-05</td>\n",
       "      <td>Customer 1005</td>\n",
       "      <td>46</td>\n",
       "      <td>Address 1005</td>\n",
       "      <td>0</td>\n",
       "    </tr>\n",
       "  </tbody>\n",
       "</table>\n",
       "</div>"
      ],
      "text/plain": [
       "   CustomerID  AccountBalance   LastLogin           Name  Age       Address  \\\n",
       "0        1001     9507.272060  2022-01-01  Customer 1001   54  Address 1001   \n",
       "1        1002     7408.704536  2022-01-02  Customer 1002   35  Address 1002   \n",
       "2        1003     1715.321989  2022-01-03  Customer 1003   40  Address 1003   \n",
       "3        1004     3101.509134  2022-01-04  Customer 1004   30  Address 1004   \n",
       "4        1005     5405.766914  2022-01-05  Customer 1005   46  Address 1005   \n",
       "\n",
       "   SuspiciousFlag  \n",
       "0               0  \n",
       "1               0  \n",
       "2               0  \n",
       "3               0  \n",
       "4               0  "
      ]
     },
     "execution_count": 27,
     "metadata": {},
     "output_type": "execute_result"
    }
   ],
   "source": [
    "customers.head()"
   ]
  },
  {
   "cell_type": "code",
   "execution_count": 28,
   "id": "286bf650-298d-449b-871e-d6733b3e6446",
   "metadata": {},
   "outputs": [],
   "source": [
    "# merging transaction data\n",
    "transactions = pd.merge(amount_data,transaction_category, on ='TransactionID')"
   ]
  },
  {
   "cell_type": "code",
   "execution_count": 29,
   "id": "9c410494-7e99-4b78-aa77-22615b9e91f9",
   "metadata": {},
   "outputs": [],
   "source": [
    "transactions= pd.merge(transactions,transaction_data, on ='TransactionID')"
   ]
  },
  {
   "cell_type": "code",
   "execution_count": 30,
   "id": "36c89e3d-a239-422a-b468-ebed25167418",
   "metadata": {},
   "outputs": [],
   "source": [
    "transactions= pd.merge(transactions,transaction_rec, on = 'TransactionID')"
   ]
  },
  {
   "cell_type": "code",
   "execution_count": 31,
   "id": "5d15e43d-1118-468a-83c7-7e8b15af3971",
   "metadata": {},
   "outputs": [],
   "source": [
    "transactions= pd.merge(transactions,is_fraud, on = 'TransactionID')"
   ]
  },
  {
   "cell_type": "code",
   "execution_count": 32,
   "id": "9d444008-ab89-4077-804a-37a6f7245678",
   "metadata": {},
   "outputs": [],
   "source": [
    "transactions=pd.merge(transactions, anomaly_score, on = 'TransactionID')"
   ]
  },
  {
   "cell_type": "code",
   "execution_count": 33,
   "id": "d3394bbc-3618-44b7-a3c5-f8c5306acaea",
   "metadata": {},
   "outputs": [
    {
     "data": {
      "text/html": [
       "<div>\n",
       "<style scoped>\n",
       "    .dataframe tbody tr th:only-of-type {\n",
       "        vertical-align: middle;\n",
       "    }\n",
       "\n",
       "    .dataframe tbody tr th {\n",
       "        vertical-align: top;\n",
       "    }\n",
       "\n",
       "    .dataframe thead th {\n",
       "        text-align: right;\n",
       "    }\n",
       "</style>\n",
       "<table border=\"1\" class=\"dataframe\">\n",
       "  <thead>\n",
       "    <tr style=\"text-align: right;\">\n",
       "      <th></th>\n",
       "      <th>TransactionID</th>\n",
       "      <th>TransactionAmount</th>\n",
       "      <th>Category</th>\n",
       "      <th>Timestamp</th>\n",
       "      <th>MerchantID</th>\n",
       "      <th>Amount</th>\n",
       "      <th>CustomerID</th>\n",
       "      <th>FraudIndicator</th>\n",
       "      <th>AnomalyScore</th>\n",
       "    </tr>\n",
       "  </thead>\n",
       "  <tbody>\n",
       "    <tr>\n",
       "      <th>0</th>\n",
       "      <td>1</td>\n",
       "      <td>79.413607</td>\n",
       "      <td>Other</td>\n",
       "      <td>2022-01-01 00:00:00</td>\n",
       "      <td>2701</td>\n",
       "      <td>55.530334</td>\n",
       "      <td>1952</td>\n",
       "      <td>0</td>\n",
       "      <td>0.686699</td>\n",
       "    </tr>\n",
       "    <tr>\n",
       "      <th>1</th>\n",
       "      <td>2</td>\n",
       "      <td>12.053087</td>\n",
       "      <td>Online</td>\n",
       "      <td>2022-01-01 01:00:00</td>\n",
       "      <td>2070</td>\n",
       "      <td>12.881180</td>\n",
       "      <td>1027</td>\n",
       "      <td>0</td>\n",
       "      <td>0.081749</td>\n",
       "    </tr>\n",
       "    <tr>\n",
       "      <th>2</th>\n",
       "      <td>3</td>\n",
       "      <td>33.310357</td>\n",
       "      <td>Travel</td>\n",
       "      <td>2022-01-01 02:00:00</td>\n",
       "      <td>2238</td>\n",
       "      <td>50.176322</td>\n",
       "      <td>1955</td>\n",
       "      <td>0</td>\n",
       "      <td>0.023857</td>\n",
       "    </tr>\n",
       "    <tr>\n",
       "      <th>3</th>\n",
       "      <td>4</td>\n",
       "      <td>46.121117</td>\n",
       "      <td>Travel</td>\n",
       "      <td>2022-01-01 03:00:00</td>\n",
       "      <td>2879</td>\n",
       "      <td>41.634001</td>\n",
       "      <td>1796</td>\n",
       "      <td>0</td>\n",
       "      <td>0.876994</td>\n",
       "    </tr>\n",
       "    <tr>\n",
       "      <th>4</th>\n",
       "      <td>5</td>\n",
       "      <td>54.051618</td>\n",
       "      <td>Other</td>\n",
       "      <td>2022-01-01 04:00:00</td>\n",
       "      <td>2966</td>\n",
       "      <td>78.122853</td>\n",
       "      <td>1946</td>\n",
       "      <td>0</td>\n",
       "      <td>0.034059</td>\n",
       "    </tr>\n",
       "  </tbody>\n",
       "</table>\n",
       "</div>"
      ],
      "text/plain": [
       "   TransactionID  TransactionAmount Category            Timestamp  MerchantID  \\\n",
       "0              1          79.413607    Other  2022-01-01 00:00:00        2701   \n",
       "1              2          12.053087   Online  2022-01-01 01:00:00        2070   \n",
       "2              3          33.310357   Travel  2022-01-01 02:00:00        2238   \n",
       "3              4          46.121117   Travel  2022-01-01 03:00:00        2879   \n",
       "4              5          54.051618    Other  2022-01-01 04:00:00        2966   \n",
       "\n",
       "      Amount  CustomerID  FraudIndicator  AnomalyScore  \n",
       "0  55.530334        1952               0      0.686699  \n",
       "1  12.881180        1027               0      0.081749  \n",
       "2  50.176322        1955               0      0.023857  \n",
       "3  41.634001        1796               0      0.876994  \n",
       "4  78.122853        1946               0      0.034059  "
      ]
     },
     "execution_count": 33,
     "metadata": {},
     "output_type": "execute_result"
    }
   ],
   "source": [
    "transactions.head()"
   ]
  },
  {
   "cell_type": "code",
   "execution_count": 34,
   "id": "90f4c0b6-1e66-4470-91e3-7d063f5b46da",
   "metadata": {},
   "outputs": [],
   "source": [
    "# merging customer and transaction data into one file\n",
    "cust_trans= pd.merge(customers,transactions, on ='CustomerID')\n",
    "cust_trans= pd.merge(cust_trans,merchant_data, on= 'MerchantID')"
   ]
  },
  {
   "cell_type": "code",
   "execution_count": 35,
   "id": "6b77ebb1-e901-464d-9706-0051cb750534",
   "metadata": {},
   "outputs": [
    {
     "data": {
      "text/html": [
       "<div>\n",
       "<style scoped>\n",
       "    .dataframe tbody tr th:only-of-type {\n",
       "        vertical-align: middle;\n",
       "    }\n",
       "\n",
       "    .dataframe tbody tr th {\n",
       "        vertical-align: top;\n",
       "    }\n",
       "\n",
       "    .dataframe thead th {\n",
       "        text-align: right;\n",
       "    }\n",
       "</style>\n",
       "<table border=\"1\" class=\"dataframe\">\n",
       "  <thead>\n",
       "    <tr style=\"text-align: right;\">\n",
       "      <th></th>\n",
       "      <th>CustomerID</th>\n",
       "      <th>AccountBalance</th>\n",
       "      <th>LastLogin</th>\n",
       "      <th>Name</th>\n",
       "      <th>Age</th>\n",
       "      <th>Address</th>\n",
       "      <th>SuspiciousFlag</th>\n",
       "      <th>TransactionID</th>\n",
       "      <th>TransactionAmount</th>\n",
       "      <th>Category</th>\n",
       "      <th>Timestamp</th>\n",
       "      <th>MerchantID</th>\n",
       "      <th>Amount</th>\n",
       "      <th>FraudIndicator</th>\n",
       "      <th>AnomalyScore</th>\n",
       "      <th>MerchantName</th>\n",
       "      <th>Location</th>\n",
       "    </tr>\n",
       "  </thead>\n",
       "  <tbody>\n",
       "    <tr>\n",
       "      <th>0</th>\n",
       "      <td>1001</td>\n",
       "      <td>9507.272060</td>\n",
       "      <td>2022-01-01</td>\n",
       "      <td>Customer 1001</td>\n",
       "      <td>54</td>\n",
       "      <td>Address 1001</td>\n",
       "      <td>0</td>\n",
       "      <td>787</td>\n",
       "      <td>87.375444</td>\n",
       "      <td>Food</td>\n",
       "      <td>2022-02-02 18:00:00</td>\n",
       "      <td>2627</td>\n",
       "      <td>33.670626</td>\n",
       "      <td>0</td>\n",
       "      <td>0.030921</td>\n",
       "      <td>Merchant 2627</td>\n",
       "      <td>Location 2627</td>\n",
       "    </tr>\n",
       "    <tr>\n",
       "      <th>1</th>\n",
       "      <td>1441</td>\n",
       "      <td>7268.827350</td>\n",
       "      <td>2023-03-17</td>\n",
       "      <td>Customer 1441</td>\n",
       "      <td>37</td>\n",
       "      <td>Address 1441</td>\n",
       "      <td>0</td>\n",
       "      <td>257</td>\n",
       "      <td>71.337967</td>\n",
       "      <td>Food</td>\n",
       "      <td>2022-01-11 16:00:00</td>\n",
       "      <td>2627</td>\n",
       "      <td>23.740319</td>\n",
       "      <td>0</td>\n",
       "      <td>0.555628</td>\n",
       "      <td>Merchant 2627</td>\n",
       "      <td>Location 2627</td>\n",
       "    </tr>\n",
       "    <tr>\n",
       "      <th>2</th>\n",
       "      <td>1003</td>\n",
       "      <td>1715.321989</td>\n",
       "      <td>2022-01-03</td>\n",
       "      <td>Customer 1003</td>\n",
       "      <td>40</td>\n",
       "      <td>Address 1003</td>\n",
       "      <td>0</td>\n",
       "      <td>641</td>\n",
       "      <td>46.044172</td>\n",
       "      <td>Travel</td>\n",
       "      <td>2022-01-27 16:00:00</td>\n",
       "      <td>2496</td>\n",
       "      <td>30.980239</td>\n",
       "      <td>0</td>\n",
       "      <td>0.961552</td>\n",
       "      <td>Merchant 2496</td>\n",
       "      <td>Location 2496</td>\n",
       "    </tr>\n",
       "    <tr>\n",
       "      <th>3</th>\n",
       "      <td>1004</td>\n",
       "      <td>3101.509134</td>\n",
       "      <td>2022-01-04</td>\n",
       "      <td>Customer 1004</td>\n",
       "      <td>30</td>\n",
       "      <td>Address 1004</td>\n",
       "      <td>0</td>\n",
       "      <td>450</td>\n",
       "      <td>85.085061</td>\n",
       "      <td>Other</td>\n",
       "      <td>2022-01-19 17:00:00</td>\n",
       "      <td>2184</td>\n",
       "      <td>11.167088</td>\n",
       "      <td>0</td>\n",
       "      <td>0.525809</td>\n",
       "      <td>Merchant 2184</td>\n",
       "      <td>Location 2184</td>\n",
       "    </tr>\n",
       "    <tr>\n",
       "      <th>4</th>\n",
       "      <td>1770</td>\n",
       "      <td>6847.490921</td>\n",
       "      <td>2024-02-09</td>\n",
       "      <td>Customer 1770</td>\n",
       "      <td>36</td>\n",
       "      <td>Address 1770</td>\n",
       "      <td>1</td>\n",
       "      <td>613</td>\n",
       "      <td>33.420638</td>\n",
       "      <td>Other</td>\n",
       "      <td>2022-01-26 12:00:00</td>\n",
       "      <td>2184</td>\n",
       "      <td>16.182847</td>\n",
       "      <td>0</td>\n",
       "      <td>0.260799</td>\n",
       "      <td>Merchant 2184</td>\n",
       "      <td>Location 2184</td>\n",
       "    </tr>\n",
       "  </tbody>\n",
       "</table>\n",
       "</div>"
      ],
      "text/plain": [
       "   CustomerID  AccountBalance   LastLogin           Name  Age       Address  \\\n",
       "0        1001     9507.272060  2022-01-01  Customer 1001   54  Address 1001   \n",
       "1        1441     7268.827350  2023-03-17  Customer 1441   37  Address 1441   \n",
       "2        1003     1715.321989  2022-01-03  Customer 1003   40  Address 1003   \n",
       "3        1004     3101.509134  2022-01-04  Customer 1004   30  Address 1004   \n",
       "4        1770     6847.490921  2024-02-09  Customer 1770   36  Address 1770   \n",
       "\n",
       "   SuspiciousFlag  TransactionID  TransactionAmount Category  \\\n",
       "0               0            787          87.375444     Food   \n",
       "1               0            257          71.337967     Food   \n",
       "2               0            641          46.044172   Travel   \n",
       "3               0            450          85.085061    Other   \n",
       "4               1            613          33.420638    Other   \n",
       "\n",
       "             Timestamp  MerchantID     Amount  FraudIndicator  AnomalyScore  \\\n",
       "0  2022-02-02 18:00:00        2627  33.670626               0      0.030921   \n",
       "1  2022-01-11 16:00:00        2627  23.740319               0      0.555628   \n",
       "2  2022-01-27 16:00:00        2496  30.980239               0      0.961552   \n",
       "3  2022-01-19 17:00:00        2184  11.167088               0      0.525809   \n",
       "4  2022-01-26 12:00:00        2184  16.182847               0      0.260799   \n",
       "\n",
       "    MerchantName       Location  \n",
       "0  Merchant 2627  Location 2627  \n",
       "1  Merchant 2627  Location 2627  \n",
       "2  Merchant 2496  Location 2496  \n",
       "3  Merchant 2184  Location 2184  \n",
       "4  Merchant 2184  Location 2184  "
      ]
     },
     "execution_count": 35,
     "metadata": {},
     "output_type": "execute_result"
    }
   ],
   "source": [
    "cust_trans.head()"
   ]
  },
  {
   "cell_type": "code",
   "execution_count": 36,
   "id": "79f05bea-7c27-4f26-9394-6c912cc54016",
   "metadata": {},
   "outputs": [
    {
     "name": "stdout",
     "output_type": "stream",
     "text": [
      "<class 'pandas.core.frame.DataFrame'>\n",
      "RangeIndex: 1000 entries, 0 to 999\n",
      "Data columns (total 17 columns):\n",
      " #   Column             Non-Null Count  Dtype  \n",
      "---  ------             --------------  -----  \n",
      " 0   CustomerID         1000 non-null   int64  \n",
      " 1   AccountBalance     1000 non-null   float64\n",
      " 2   LastLogin          1000 non-null   object \n",
      " 3   Name               1000 non-null   object \n",
      " 4   Age                1000 non-null   int64  \n",
      " 5   Address            1000 non-null   object \n",
      " 6   SuspiciousFlag     1000 non-null   int64  \n",
      " 7   TransactionID      1000 non-null   int64  \n",
      " 8   TransactionAmount  1000 non-null   float64\n",
      " 9   Category           1000 non-null   object \n",
      " 10  Timestamp          1000 non-null   object \n",
      " 11  MerchantID         1000 non-null   int64  \n",
      " 12  Amount             1000 non-null   float64\n",
      " 13  FraudIndicator     1000 non-null   int64  \n",
      " 14  AnomalyScore       1000 non-null   float64\n",
      " 15  MerchantName       1000 non-null   object \n",
      " 16  Location           1000 non-null   object \n",
      "dtypes: float64(4), int64(6), object(7)\n",
      "memory usage: 132.9+ KB\n"
     ]
    }
   ],
   "source": [
    "cust_trans.info()"
   ]
  },
  {
   "cell_type": "code",
   "execution_count": 37,
   "id": "741a12ce-07b3-4bf3-9355-c102c6cdeeac",
   "metadata": {},
   "outputs": [
    {
     "data": {
      "text/html": [
       "<div>\n",
       "<style scoped>\n",
       "    .dataframe tbody tr th:only-of-type {\n",
       "        vertical-align: middle;\n",
       "    }\n",
       "\n",
       "    .dataframe tbody tr th {\n",
       "        vertical-align: top;\n",
       "    }\n",
       "\n",
       "    .dataframe thead th {\n",
       "        text-align: right;\n",
       "    }\n",
       "</style>\n",
       "<table border=\"1\" class=\"dataframe\">\n",
       "  <thead>\n",
       "    <tr style=\"text-align: right;\">\n",
       "      <th></th>\n",
       "      <th>CustomerID</th>\n",
       "      <th>AccountBalance</th>\n",
       "      <th>Age</th>\n",
       "      <th>SuspiciousFlag</th>\n",
       "      <th>TransactionID</th>\n",
       "      <th>TransactionAmount</th>\n",
       "      <th>MerchantID</th>\n",
       "      <th>Amount</th>\n",
       "      <th>FraudIndicator</th>\n",
       "      <th>AnomalyScore</th>\n",
       "    </tr>\n",
       "  </thead>\n",
       "  <tbody>\n",
       "    <tr>\n",
       "      <th>count</th>\n",
       "      <td>1000.000000</td>\n",
       "      <td>1000.000000</td>\n",
       "      <td>1000.000000</td>\n",
       "      <td>1000.000000</td>\n",
       "      <td>1000.000000</td>\n",
       "      <td>1000.000000</td>\n",
       "      <td>1000.000000</td>\n",
       "      <td>1000.000000</td>\n",
       "      <td>1000.000000</td>\n",
       "      <td>1000.000000</td>\n",
       "    </tr>\n",
       "    <tr>\n",
       "      <th>mean</th>\n",
       "      <td>1496.626000</td>\n",
       "      <td>5715.455931</td>\n",
       "      <td>39.848000</td>\n",
       "      <td>0.025000</td>\n",
       "      <td>500.500000</td>\n",
       "      <td>55.853826</td>\n",
       "      <td>2504.701000</td>\n",
       "      <td>55.394871</td>\n",
       "      <td>0.045000</td>\n",
       "      <td>0.492282</td>\n",
       "    </tr>\n",
       "    <tr>\n",
       "      <th>std</th>\n",
       "      <td>289.229047</td>\n",
       "      <td>2540.517262</td>\n",
       "      <td>13.074932</td>\n",
       "      <td>0.156203</td>\n",
       "      <td>288.819436</td>\n",
       "      <td>26.093606</td>\n",
       "      <td>288.414883</td>\n",
       "      <td>25.070809</td>\n",
       "      <td>0.207408</td>\n",
       "      <td>0.288423</td>\n",
       "    </tr>\n",
       "    <tr>\n",
       "      <th>min</th>\n",
       "      <td>1001.000000</td>\n",
       "      <td>1056.301181</td>\n",
       "      <td>18.000000</td>\n",
       "      <td>0.000000</td>\n",
       "      <td>1.000000</td>\n",
       "      <td>10.057864</td>\n",
       "      <td>2001.000000</td>\n",
       "      <td>10.006933</td>\n",
       "      <td>0.000000</td>\n",
       "      <td>0.000234</td>\n",
       "    </tr>\n",
       "    <tr>\n",
       "      <th>25%</th>\n",
       "      <td>1239.000000</td>\n",
       "      <td>3489.554711</td>\n",
       "      <td>29.000000</td>\n",
       "      <td>0.000000</td>\n",
       "      <td>250.750000</td>\n",
       "      <td>33.875129</td>\n",
       "      <td>2254.500000</td>\n",
       "      <td>34.502315</td>\n",
       "      <td>0.000000</td>\n",
       "      <td>0.251802</td>\n",
       "    </tr>\n",
       "    <tr>\n",
       "      <th>50%</th>\n",
       "      <td>1501.000000</td>\n",
       "      <td>5753.007775</td>\n",
       "      <td>39.000000</td>\n",
       "      <td>0.000000</td>\n",
       "      <td>500.500000</td>\n",
       "      <td>55.958313</td>\n",
       "      <td>2500.500000</td>\n",
       "      <td>57.844325</td>\n",
       "      <td>0.000000</td>\n",
       "      <td>0.490242</td>\n",
       "    </tr>\n",
       "    <tr>\n",
       "      <th>75%</th>\n",
       "      <td>1739.250000</td>\n",
       "      <td>7925.710167</td>\n",
       "      <td>51.000000</td>\n",
       "      <td>0.000000</td>\n",
       "      <td>750.250000</td>\n",
       "      <td>77.589391</td>\n",
       "      <td>2761.250000</td>\n",
       "      <td>75.858576</td>\n",
       "      <td>0.000000</td>\n",
       "      <td>0.741888</td>\n",
       "    </tr>\n",
       "    <tr>\n",
       "      <th>max</th>\n",
       "      <td>2000.000000</td>\n",
       "      <td>9999.776239</td>\n",
       "      <td>64.000000</td>\n",
       "      <td>1.000000</td>\n",
       "      <td>1000.000000</td>\n",
       "      <td>99.784323</td>\n",
       "      <td>3000.000000</td>\n",
       "      <td>99.887410</td>\n",
       "      <td>1.000000</td>\n",
       "      <td>0.999047</td>\n",
       "    </tr>\n",
       "  </tbody>\n",
       "</table>\n",
       "</div>"
      ],
      "text/plain": [
       "        CustomerID  AccountBalance          Age  SuspiciousFlag  \\\n",
       "count  1000.000000     1000.000000  1000.000000     1000.000000   \n",
       "mean   1496.626000     5715.455931    39.848000        0.025000   \n",
       "std     289.229047     2540.517262    13.074932        0.156203   \n",
       "min    1001.000000     1056.301181    18.000000        0.000000   \n",
       "25%    1239.000000     3489.554711    29.000000        0.000000   \n",
       "50%    1501.000000     5753.007775    39.000000        0.000000   \n",
       "75%    1739.250000     7925.710167    51.000000        0.000000   \n",
       "max    2000.000000     9999.776239    64.000000        1.000000   \n",
       "\n",
       "       TransactionID  TransactionAmount   MerchantID       Amount  \\\n",
       "count    1000.000000        1000.000000  1000.000000  1000.000000   \n",
       "mean      500.500000          55.853826  2504.701000    55.394871   \n",
       "std       288.819436          26.093606   288.414883    25.070809   \n",
       "min         1.000000          10.057864  2001.000000    10.006933   \n",
       "25%       250.750000          33.875129  2254.500000    34.502315   \n",
       "50%       500.500000          55.958313  2500.500000    57.844325   \n",
       "75%       750.250000          77.589391  2761.250000    75.858576   \n",
       "max      1000.000000          99.784323  3000.000000    99.887410   \n",
       "\n",
       "       FraudIndicator  AnomalyScore  \n",
       "count     1000.000000   1000.000000  \n",
       "mean         0.045000      0.492282  \n",
       "std          0.207408      0.288423  \n",
       "min          0.000000      0.000234  \n",
       "25%          0.000000      0.251802  \n",
       "50%          0.000000      0.490242  \n",
       "75%          0.000000      0.741888  \n",
       "max          1.000000      0.999047  "
      ]
     },
     "execution_count": 37,
     "metadata": {},
     "output_type": "execute_result"
    }
   ],
   "source": [
    "cust_trans.describe()"
   ]
  },
  {
   "cell_type": "code",
   "execution_count": 38,
   "id": "1e86cac1-d74e-41e0-85d9-65eff54d0736",
   "metadata": {},
   "outputs": [
    {
     "name": "stdout",
     "output_type": "stream",
     "text": [
      "Empty DataFrame\n",
      "Columns: [CustomerID, AccountBalance, LastLogin, Name, Age, Address, SuspiciousFlag, TransactionID, TransactionAmount, Category, Timestamp, MerchantID, Amount, FraudIndicator, AnomalyScore, MerchantName, Location]\n",
      "Index: []\n"
     ]
    }
   ],
   "source": [
    "# checking for duplicates\n",
    "duplicate_rows = cust_trans[cust_trans.duplicated()]\n",
    "print(duplicate_rows)"
   ]
  },
  {
   "cell_type": "code",
   "execution_count": 39,
   "id": "7ea8838a-bffd-49ac-aca7-a0a851ebb850",
   "metadata": {},
   "outputs": [],
   "source": [
    "# Define high-value customers as those with above-average transaction amounts\n",
    "average_transaction = cust_trans['TransactionAmount'].mean()\n",
    "high_value_customers = cust_trans[cust_trans['TransactionAmount'] > average_transaction]\n",
    "\n"
   ]
  },
  {
   "cell_type": "code",
   "execution_count": 40,
   "id": "9d48393f-c1f3-49e9-8620-e279bc8fe1d2",
   "metadata": {},
   "outputs": [
    {
     "name": "stdout",
     "output_type": "stream",
     "text": [
      "High-value customers: 396\n"
     ]
    }
   ],
   "source": [
    "# Get unique customer ids\n",
    "unique_high_value_customers = high_value_customers['CustomerID'].unique()\n",
    "print(f\"High-value customers: {len(unique_high_value_customers)}\")\n"
   ]
  },
  {
   "cell_type": "code",
   "execution_count": 41,
   "id": "9d1ea1fe-11a7-43cc-8568-6cdf2f35e244",
   "metadata": {},
   "outputs": [],
   "source": [
    "# Filter for fraud transaction above the average transaction value\n",
    "fraud_above_avg = cust_trans[(cust_trans['TransactionAmount'] > average_transaction) & \n",
    "                 (cust_trans['FraudIndicator']==1)]"
   ]
  },
  {
   "cell_type": "code",
   "execution_count": 42,
   "id": "b151f11f-09ca-4097-8c6b-2f90ea41b7ff",
   "metadata": {},
   "outputs": [
    {
     "data": {
      "text/plain": [
       "Text(0.5, 0, 'Accounts')"
      ]
     },
     "execution_count": 42,
     "metadata": {},
     "output_type": "execute_result"
    },
    {
     "data": {
      "image/png": "[encoded data removed]",
      "text/plain": [
       "<Figure size 1000x600 with 1 Axes>"
      ]
     },
     "metadata": {},
     "output_type": "display_data"
    }
   ],
   "source": [
    "# Plotting\n",
    "plt.figure(figsize=(10, 6))\n",
    "plt.bar(fraud_above_avg['CustomerID'], fraud_above_avg['TransactionAmount'], color='orange')\n",
    "plt.axhline(y=average_transaction, color='r', linestyle='--', label='Average Transaction Value')\n",
    "plt.title('Fraud  Accounts Above Average Transaction Value')\n",
    "plt.xlabel('Accounts')"
   ]
  },
  {
   "cell_type": "code",
   "execution_count": 43,
   "id": "a7de1dcf-9c63-4092-8be0-45ab921cefce",
   "metadata": {},
   "outputs": [],
   "source": [
    "# filter fraud transaction below average transaction value\n",
    "fraud_below_avg = cust_trans[(cust_trans['TransactionAmount']<= average_transaction) & (cust_trans['FraudIndicator'])==1]\n"
   ]
  },
  {
   "cell_type": "code",
   "execution_count": null,
   "id": "1bee076b-c4ec-4a85-a73f-852bad32dde2",
   "metadata": {},
   "outputs": [],
   "source": []
  },
  {
   "cell_type": "code",
   "execution_count": 44,
   "id": "a24751ba-64c5-44f8-85df-09c8078e656f",
   "metadata": {},
   "outputs": [
    {
     "data": {
      "text/plain": [
       "Text(0.5, 0, 'Accounts')"
      ]
     },
     "execution_count": 44,
     "metadata": {},
     "output_type": "execute_result"
    },
    {
     "data": {
      "image/png": "[encoded data removed]",
      "text/plain": [
       "<Figure size 1000x600 with 1 Axes>"
      ]
     },
     "metadata": {},
     "output_type": "display_data"
    }
   ],
   "source": [
    "# Plotting\n",
    "plt.figure(figsize=(10, 6))\n",
    "plt.bar(fraud_below_avg['CustomerID'], fraud_below_avg['TransactionAmount'], color='orange')\n",
    "plt.axhline(y=average_transaction, color='r', linestyle='--', label='Average Transaction Value')\n",
    "plt.title('Fraud  Accounts Below Average Transaction Value')\n",
    "plt.xlabel('Accounts')\n",
    "# fraudulent transactions are below and above the average transaction value"
   ]
  },
  {
   "cell_type": "code",
   "execution_count": 45,
   "id": "36760393-1f2b-4ca6-a921-05a714eb85b8",
   "metadata": {},
   "outputs": [],
   "source": [
    "# filter fraud accounts\n",
    "\n",
    "fraud_acc= cust_trans[cust_trans['FraudIndicator']==1]\n",
    "\n",
    "\n",
    "\n"
   ]
  },
  {
   "cell_type": "code",
   "execution_count": 46,
   "id": "73194f78-220e-463d-b41a-eee11e1f8d38",
   "metadata": {},
   "outputs": [],
   "source": [
    "# Count occurrences of each account\n",
    "fraud_account_counts = fraud_acc.value_counts()"
   ]
  },
  {
   "cell_type": "code",
   "execution_count": 47,
   "id": "f3dc1716-451a-4436-b245-127e31e43515",
   "metadata": {},
   "outputs": [
    {
     "name": "stdout",
     "output_type": "stream",
     "text": [
      "Series([], Name: count, dtype: int64)\n"
     ]
    }
   ],
   "source": [
    "# Filter accounts used more than once\n",
    "frequent_fraud_accounts = fraud_account_counts[fraud_account_counts > 1]\n",
    "print(frequent_fraud_accounts)"
   ]
  },
  {
   "cell_type": "code",
   "execution_count": 48,
   "id": "a5b6aaec-0868-44c8-b53e-98b45841bebd",
   "metadata": {},
   "outputs": [
    {
     "ename": "IndexError",
     "evalue": "index 0 is out of bounds for axis 0 with size 0",
     "output_type": "error",
     "traceback": [
      "\u001b[1;31m---------------------------------------------------------------------------\u001b[0m",
      "\u001b[1;31mIndexError\u001b[0m                                Traceback (most recent call last)",
      "Cell \u001b[1;32mIn[48], line 3\u001b[0m\n\u001b[0;32m      1\u001b[0m \u001b[38;5;66;03m# Plotting\u001b[39;00m\n\u001b[0;32m      2\u001b[0m plt\u001b[38;5;241m.\u001b[39mfigure(figsize\u001b[38;5;241m=\u001b[39m(\u001b[38;5;241m10\u001b[39m, \u001b[38;5;241m6\u001b[39m))\n\u001b[1;32m----> 3\u001b[0m frequent_fraud_accounts\u001b[38;5;241m.\u001b[39mplot(kind\u001b[38;5;241m=\u001b[39m\u001b[38;5;124m'\u001b[39m\u001b[38;5;124mbar\u001b[39m\u001b[38;5;124m'\u001b[39m, color\u001b[38;5;241m=\u001b[39m\u001b[38;5;124m'\u001b[39m\u001b[38;5;124morange\u001b[39m\u001b[38;5;124m'\u001b[39m)\n\u001b[0;32m      4\u001b[0m plt\u001b[38;5;241m.\u001b[39mtitle(\u001b[38;5;124m'\u001b[39m\u001b[38;5;124mAccounts Used More Than Once for Fraud\u001b[39m\u001b[38;5;124m'\u001b[39m)\n\u001b[0;32m      5\u001b[0m plt\u001b[38;5;241m.\u001b[39mxlabel(\u001b[38;5;124m'\u001b[39m\u001b[38;5;124mAccounts\u001b[39m\u001b[38;5;124m'\u001b[39m)\n",
      "File \u001b[1;32m~\\AppData\\Local\\anaconda3\\Lib\\site-packages\\pandas\\plotting\\_core.py:1031\u001b[0m, in \u001b[0;36mPlotAccessor.__call__\u001b[1;34m(self, *args, **kwargs)\u001b[0m\n\u001b[0;32m   1028\u001b[0m             label_name \u001b[38;5;241m=\u001b[39m label_kw \u001b[38;5;129;01mor\u001b[39;00m data\u001b[38;5;241m.\u001b[39mcolumns\n\u001b[0;32m   1029\u001b[0m             data\u001b[38;5;241m.\u001b[39mcolumns \u001b[38;5;241m=\u001b[39m label_name\n\u001b[1;32m-> 1031\u001b[0m \u001b[38;5;28;01mreturn\u001b[39;00m plot_backend\u001b[38;5;241m.\u001b[39mplot(data, kind\u001b[38;5;241m=\u001b[39mkind, \u001b[38;5;241m*\u001b[39m\u001b[38;5;241m*\u001b[39mkwargs)\n",
      "File \u001b[1;32m~\\AppData\\Local\\anaconda3\\Lib\\site-packages\\pandas\\plotting\\_matplotlib\\__init__.py:71\u001b[0m, in \u001b[0;36mplot\u001b[1;34m(data, kind, **kwargs)\u001b[0m\n\u001b[0;32m     69\u001b[0m         kwargs[\u001b[38;5;124m\"\u001b[39m\u001b[38;5;124max\u001b[39m\u001b[38;5;124m\"\u001b[39m] \u001b[38;5;241m=\u001b[39m \u001b[38;5;28mgetattr\u001b[39m(ax, \u001b[38;5;124m\"\u001b[39m\u001b[38;5;124mleft_ax\u001b[39m\u001b[38;5;124m\"\u001b[39m, ax)\n\u001b[0;32m     70\u001b[0m plot_obj \u001b[38;5;241m=\u001b[39m PLOT_CLASSES[kind](data, \u001b[38;5;241m*\u001b[39m\u001b[38;5;241m*\u001b[39mkwargs)\n\u001b[1;32m---> 71\u001b[0m plot_obj\u001b[38;5;241m.\u001b[39mgenerate()\n\u001b[0;32m     72\u001b[0m plot_obj\u001b[38;5;241m.\u001b[39mdraw()\n\u001b[0;32m     73\u001b[0m \u001b[38;5;28;01mreturn\u001b[39;00m plot_obj\u001b[38;5;241m.\u001b[39mresult\n",
      "File \u001b[1;32m~\\AppData\\Local\\anaconda3\\Lib\\site-packages\\pandas\\plotting\\_matplotlib\\core.py:460\u001b[0m, in \u001b[0;36mMPLPlot.generate\u001b[1;34m(self)\u001b[0m\n\u001b[0;32m    458\u001b[0m \u001b[38;5;28;01mfor\u001b[39;00m ax \u001b[38;5;129;01min\u001b[39;00m \u001b[38;5;28mself\u001b[39m\u001b[38;5;241m.\u001b[39maxes:\n\u001b[0;32m    459\u001b[0m     \u001b[38;5;28mself\u001b[39m\u001b[38;5;241m.\u001b[39m_post_plot_logic_common(ax, \u001b[38;5;28mself\u001b[39m\u001b[38;5;241m.\u001b[39mdata)\n\u001b[1;32m--> 460\u001b[0m     \u001b[38;5;28mself\u001b[39m\u001b[38;5;241m.\u001b[39m_post_plot_logic(ax, \u001b[38;5;28mself\u001b[39m\u001b[38;5;241m.\u001b[39mdata)\n",
      "File \u001b[1;32m~\\AppData\\Local\\anaconda3\\Lib\\site-packages\\pandas\\plotting\\_matplotlib\\core.py:1757\u001b[0m, in \u001b[0;36mBarPlot._post_plot_logic\u001b[1;34m(self, ax, data)\u001b[0m\n\u001b[0;32m   1754\u001b[0m \u001b[38;5;28;01melse\u001b[39;00m:\n\u001b[0;32m   1755\u001b[0m     str_index \u001b[38;5;241m=\u001b[39m [pprint_thing(key) \u001b[38;5;28;01mfor\u001b[39;00m key \u001b[38;5;129;01min\u001b[39;00m \u001b[38;5;28mrange\u001b[39m(data\u001b[38;5;241m.\u001b[39mshape[\u001b[38;5;241m0\u001b[39m])]\n\u001b[1;32m-> 1757\u001b[0m s_edge \u001b[38;5;241m=\u001b[39m \u001b[38;5;28mself\u001b[39m\u001b[38;5;241m.\u001b[39max_pos[\u001b[38;5;241m0\u001b[39m] \u001b[38;5;241m-\u001b[39m \u001b[38;5;241m0.25\u001b[39m \u001b[38;5;241m+\u001b[39m \u001b[38;5;28mself\u001b[39m\u001b[38;5;241m.\u001b[39mlim_offset\n\u001b[0;32m   1758\u001b[0m e_edge \u001b[38;5;241m=\u001b[39m \u001b[38;5;28mself\u001b[39m\u001b[38;5;241m.\u001b[39max_pos[\u001b[38;5;241m-\u001b[39m\u001b[38;5;241m1\u001b[39m] \u001b[38;5;241m+\u001b[39m \u001b[38;5;241m0.25\u001b[39m \u001b[38;5;241m+\u001b[39m \u001b[38;5;28mself\u001b[39m\u001b[38;5;241m.\u001b[39mbar_width \u001b[38;5;241m+\u001b[39m \u001b[38;5;28mself\u001b[39m\u001b[38;5;241m.\u001b[39mlim_offset\n\u001b[0;32m   1760\u001b[0m \u001b[38;5;28mself\u001b[39m\u001b[38;5;241m.\u001b[39m_decorate_ticks(ax, \u001b[38;5;28mself\u001b[39m\u001b[38;5;241m.\u001b[39m_get_index_name(), str_index, s_edge, e_edge)\n",
      "\u001b[1;31mIndexError\u001b[0m: index 0 is out of bounds for axis 0 with size 0"
     ]
    },
    {
     "data": {
      "image/png": "[encoded data removed]",
      "text/plain": [
       "<Figure size 1000x600 with 1 Axes>"
      ]
     },
     "metadata": {},
     "output_type": "display_data"
    }
   ],
   "source": [
    "\n",
    "# Plotting\n",
    "plt.figure(figsize=(10, 6))\n",
    "frequent_fraud_accounts.plot(kind='bar', color='orange')\n",
    "plt.title('Accounts Used More Than Once for Fraud')\n",
    "plt.xlabel('Accounts')\n",
    "plt.ylabel('Number of Transactions')\n",
    "plt.xticks(rotation=0)\n",
    "plt.show()\n",
    "# no account is used more than once in fradulent transactions "
   ]
  },
  {
   "cell_type": "code",
   "execution_count": 51,
   "id": "dfea6bf8-b4c2-4e85-9baf-1488624a4b17",
   "metadata": {},
   "outputs": [],
   "source": [
    "# Group by age and Fraud\n",
    "Fraud_Age = cust_trans.groupby(['Age', 'FraudIndicator']).size().unstack(fill_value=0)\n",
    "\n"
   ]
  },
  {
   "cell_type": "code",
   "execution_count": 79,
   "id": "bd11bfa2-0b2b-46d4-acc0-1f7d553699f2",
   "metadata": {},
   "outputs": [
    {
     "data": {
      "image/png": "[encoded data removed]",
      "text/plain": [
       "<Figure size 1200x600 with 1 Axes>"
      ]
     },
     "metadata": {},
     "output_type": "display_data"
    }
   ],
   "source": [
    "# Plotting\n",
    "Fraud_Age.plot(kind='bar', stacked=True, figsize=(12, 6))\n",
    "plt.title('Fraud  by Age Group')\n",
    "plt.xlabel('Age Group')\n",
    "plt.ylabel('Count')\n",
    "plt.legend(title='Fraud Indicator')\n",
    "plt.show()\n",
    "# fraud is dsitributed across all the age ranges"
   ]
  },
  {
   "cell_type": "code",
   "execution_count": 61,
   "id": "93c13182-ce21-4f64-8a04-8e216a74e1ae",
   "metadata": {},
   "outputs": [],
   "source": [
    "cust_trans['Timestamp'] = pd.to_datetime(cust_trans['Timestamp'])"
   ]
  },
  {
   "cell_type": "code",
   "execution_count": 62,
   "id": "8bad0081-b680-4599-87aa-3a468ceb6d82",
   "metadata": {},
   "outputs": [],
   "source": [
    "cust_trans['LastLogin']=pd.to_datetime(cust_trans['LastLogin'])"
   ]
  },
  {
   "cell_type": "code",
   "execution_count": 63,
   "id": "ab64e707-dbac-4fee-b971-edfe1c3ddb8e",
   "metadata": {},
   "outputs": [],
   "source": [
    "# Group by transaction date and sum the transaction amounts\n",
    "daily_fraud_transactions = fraud_acc.groupby('Timestamp')['TransactionAmount'].sum().reset_index()"
   ]
  },
  {
   "cell_type": "code",
   "execution_count": 64,
   "id": "b8750344-266a-4a01-a42d-8b8b9dc34668",
   "metadata": {},
   "outputs": [
    {
     "name": "stderr",
     "output_type": "stream",
     "text": [
      "C:\\Users\\vincent.chaparadza\\AppData\\Local\\anaconda3\\Lib\\site-packages\\seaborn\\_oldcore.py:1119: FutureWarning: use_inf_as_na option is deprecated and will be removed in a future version. Convert inf values to NaN before operating instead.\n",
      "  with pd.option_context('mode.use_inf_as_na', True):\n",
      "C:\\Users\\vincent.chaparadza\\AppData\\Local\\anaconda3\\Lib\\site-packages\\seaborn\\_oldcore.py:1119: FutureWarning: use_inf_as_na option is deprecated and will be removed in a future version. Convert inf values to NaN before operating instead.\n",
      "  with pd.option_context('mode.use_inf_as_na', True):\n"
     ]
    },
    {
     "data": {
      "image/png": "[encoded data removed]",
      "text/plain": [
       "<Figure size 1400x700 with 1 Axes>"
      ]
     },
     "metadata": {},
     "output_type": "display_data"
    }
   ],
   "source": [
    "# Plotting daily transaction amounts\n",
    "plt.figure(figsize=(14, 7))\n",
    "sns.lineplot(data=daily_fraud_transactions, x='Timestamp', y='TransactionAmount')\n",
    "plt.title('Daily Ffraud Transaction Amounts Over Time')\n",
    "plt.xlabel('Date')\n",
    "plt.ylabel('Total Transaction Amount')\n",
    "plt.xticks(rotation=45)\n",
    "plt.show()\n",
    "# daily fraud transactions range between 0 and 100 dollar daily"
   ]
  },
  {
   "cell_type": "code",
   "execution_count": 65,
   "id": "d75ba3ee-acc6-4876-aab7-12ef93fc464b",
   "metadata": {},
   "outputs": [],
   "source": [
    "# Extract year and month from the transaction date\n",
    "cust_trans['year_month'] = cust_trans['Timestamp'].dt.to_period('M')"
   ]
  },
  {
   "cell_type": "code",
   "execution_count": 66,
   "id": "7c698312-10fd-4677-a772-52c8fdfdb881",
   "metadata": {},
   "outputs": [
    {
     "name": "stderr",
     "output_type": "stream",
     "text": [
      "C:\\Users\\vincent.chaparadza\\AppData\\Local\\Temp\\ipykernel_25420\\4292557148.py:1: SettingWithCopyWarning: \n",
      "A value is trying to be set on a copy of a slice from a DataFrame.\n",
      "Try using .loc[row_indexer,col_indexer] = value instead\n",
      "\n",
      "See the caveats in the documentation: https://pandas.pydata.org/pandas-docs/stable/user_guide/indexing.html#returning-a-view-versus-a-copy\n",
      "  fraud_acc['Timestamp']=pd.to_datetime(fraud_acc['Timestamp'])\n"
     ]
    }
   ],
   "source": [
    "fraud_acc['Timestamp']=pd.to_datetime(fraud_acc['Timestamp'])"
   ]
  },
  {
   "cell_type": "code",
   "execution_count": 67,
   "id": "3dd5638e-fd9c-47ab-ac10-7ce8bfa798d4",
   "metadata": {},
   "outputs": [
    {
     "name": "stderr",
     "output_type": "stream",
     "text": [
      "C:\\Users\\vincent.chaparadza\\AppData\\Local\\Temp\\ipykernel_25420\\3273720851.py:2: SettingWithCopyWarning: \n",
      "A value is trying to be set on a copy of a slice from a DataFrame.\n",
      "Try using .loc[row_indexer,col_indexer] = value instead\n",
      "\n",
      "See the caveats in the documentation: https://pandas.pydata.org/pandas-docs/stable/user_guide/indexing.html#returning-a-view-versus-a-copy\n",
      "  fraud_acc['Hour'] = fraud_acc['Timestamp'].dt.hour\n"
     ]
    }
   ],
   "source": [
    "# Extract the hour from the timestamp\n",
    "fraud_acc['Hour'] = fraud_acc['Timestamp'].dt.hour"
   ]
  },
  {
   "cell_type": "code",
   "execution_count": 68,
   "id": "eb13995e-6c1c-44bb-8607-2c2eaf4e7e84",
   "metadata": {},
   "outputs": [],
   "source": [
    "cust_trans['Hour']= cust_trans['Timestamp'].dt.hour"
   ]
  },
  {
   "cell_type": "code",
   "execution_count": 69,
   "id": "60de6df7-1f94-4b89-a0c5-ebb3698e2051",
   "metadata": {},
   "outputs": [],
   "source": [
    "# Count the number of fraud transactions per hour\n",
    "fraud_counts_by_hour = fraud_acc['Hour'].value_counts().sort_index()"
   ]
  },
  {
   "cell_type": "code",
   "execution_count": 70,
   "id": "06020fc7-58a9-4df8-a0d2-183d0c466237",
   "metadata": {},
   "outputs": [
    {
     "data": {
      "image/png": "[encoded data removed]",
      "text/plain": [
       "<Figure size 1000x600 with 1 Axes>"
      ]
     },
     "metadata": {},
     "output_type": "display_data"
    }
   ],
   "source": [
    "# Plotting\n",
    "plt.figure(figsize=(10, 6))\n",
    "fraud_counts_by_hour.plot(kind='bar', color='orange')\n",
    "plt.title('Fraud Transactions by Hour of the Day')\n",
    "plt.xlabel('Hour of the Day')\n",
    "plt.ylabel('Number of Fraud Transactions')\n",
    "plt.xticks(rotation=0)\n",
    "plt.grid(axis='y')\n",
    "plt.show()\n",
    "# fraud transactions accur through out the day and night with slightly more occurring at night"
   ]
  },
  {
   "cell_type": "code",
   "execution_count": 71,
   "id": "4a609799-2fb4-4eec-aae3-6a19fa35e41e",
   "metadata": {},
   "outputs": [],
   "source": [
    "# Group by category and count fraud transactions\n",
    "fraud_counts_category = cust_trans[cust_trans['FraudIndicator']==1].groupby('Category').size()\n"
   ]
  },
  {
   "cell_type": "code",
   "execution_count": 72,
   "id": "2fa4ba26-29ff-4d63-adb5-cc6f91b58b4f",
   "metadata": {},
   "outputs": [
    {
     "data": {
      "image/png": "[encoded data removed]",
      "text/plain": [
       "<Figure size 1000x600 with 1 Axes>"
      ]
     },
     "metadata": {},
     "output_type": "display_data"
    }
   ],
   "source": [
    "# Plotting\n",
    "plt.figure(figsize=(10, 6))\n",
    "fraud_counts_category.plot(kind='bar', color='orange')\n",
    "plt.title('Number of Fraud Transactions by Category of Sale')\n",
    "plt.xlabel('Category of Sale')\n",
    "plt.ylabel('Number of Fraud Transactions')\n",
    "plt.xticks(rotation=45)\n",
    "plt.grid(axis='y')\n",
    "plt.show()\n",
    "# fraud transactins occurs across all categories of sale"
   ]
  },
  {
   "cell_type": "code",
   "execution_count": 73,
   "id": "2db6c6a2-3304-468c-b1c1-09d4101c267c",
   "metadata": {},
   "outputs": [],
   "source": [
    "# Group by year_month and sum transaction amounts\n",
    "monthly_transactions = cust_trans.groupby('year_month')['TransactionAmount'].sum().reset_index()"
   ]
  },
  {
   "cell_type": "code",
   "execution_count": 74,
   "id": "7004e7f7-7a50-49f6-a2fc-49a5a27db297",
   "metadata": {},
   "outputs": [
    {
     "data": {
      "text/html": [
       "<div>\n",
       "<style scoped>\n",
       "    .dataframe tbody tr th:only-of-type {\n",
       "        vertical-align: middle;\n",
       "    }\n",
       "\n",
       "    .dataframe tbody tr th {\n",
       "        vertical-align: top;\n",
       "    }\n",
       "\n",
       "    .dataframe thead th {\n",
       "        text-align: right;\n",
       "    }\n",
       "</style>\n",
       "<table border=\"1\" class=\"dataframe\">\n",
       "  <thead>\n",
       "    <tr style=\"text-align: right;\">\n",
       "      <th></th>\n",
       "      <th>year_month</th>\n",
       "      <th>TransactionAmount</th>\n",
       "    </tr>\n",
       "  </thead>\n",
       "  <tbody>\n",
       "    <tr>\n",
       "      <th>0</th>\n",
       "      <td>2022-01</td>\n",
       "      <td>41920.881973</td>\n",
       "    </tr>\n",
       "    <tr>\n",
       "      <th>1</th>\n",
       "      <td>2022-02</td>\n",
       "      <td>13932.943918</td>\n",
       "    </tr>\n",
       "  </tbody>\n",
       "</table>\n",
       "</div>"
      ],
      "text/plain": [
       "  year_month  TransactionAmount\n",
       "0    2022-01       41920.881973\n",
       "1    2022-02       13932.943918"
      ]
     },
     "execution_count": 74,
     "metadata": {},
     "output_type": "execute_result"
    }
   ],
   "source": [
    "monthly_transactions"
   ]
  },
  {
   "cell_type": "code",
   "execution_count": 75,
   "id": "eb4bcbe4-c9a2-49cb-8542-8cae9fc75d5c",
   "metadata": {},
   "outputs": [
    {
     "name": "stderr",
     "output_type": "stream",
     "text": [
      "C:\\Users\\vincent.chaparadza\\AppData\\Local\\anaconda3\\Lib\\site-packages\\seaborn\\_oldcore.py:1119: FutureWarning: use_inf_as_na option is deprecated and will be removed in a future version. Convert inf values to NaN before operating instead.\n",
      "  with pd.option_context('mode.use_inf_as_na', True):\n",
      "C:\\Users\\vincent.chaparadza\\AppData\\Local\\anaconda3\\Lib\\site-packages\\seaborn\\_oldcore.py:1119: FutureWarning: use_inf_as_na option is deprecated and will be removed in a future version. Convert inf values to NaN before operating instead.\n",
      "  with pd.option_context('mode.use_inf_as_na', True):\n"
     ]
    },
    {
     "ename": "TypeError",
     "evalue": "Invalid object type at position 0",
     "output_type": "error",
     "traceback": [
      "\u001b[1;31m---------------------------------------------------------------------------\u001b[0m",
      "\u001b[1;31mTypeError\u001b[0m                                 Traceback (most recent call last)",
      "File \u001b[1;32mlib.pyx:2374\u001b[0m, in \u001b[0;36mpandas._libs.lib.maybe_convert_numeric\u001b[1;34m()\u001b[0m\n",
      "\u001b[1;31mTypeError\u001b[0m: Invalid object type",
      "\nDuring handling of the above exception, another exception occurred:\n",
      "\u001b[1;31mTypeError\u001b[0m                                 Traceback (most recent call last)",
      "Cell \u001b[1;32mIn[75], line 3\u001b[0m\n\u001b[0;32m      1\u001b[0m \u001b[38;5;66;03m# Plotting monthly transaction amounts\u001b[39;00m\n\u001b[0;32m      2\u001b[0m plt\u001b[38;5;241m.\u001b[39mfigure(figsize\u001b[38;5;241m=\u001b[39m(\u001b[38;5;241m14\u001b[39m, \u001b[38;5;241m7\u001b[39m))\n\u001b[1;32m----> 3\u001b[0m sns\u001b[38;5;241m.\u001b[39mlineplot(data\u001b[38;5;241m=\u001b[39mmonthly_transactions, x\u001b[38;5;241m=\u001b[39m\u001b[38;5;124m'\u001b[39m\u001b[38;5;124myear_month\u001b[39m\u001b[38;5;124m'\u001b[39m, y\u001b[38;5;241m=\u001b[39m\u001b[38;5;124m'\u001b[39m\u001b[38;5;124mTransactionAmount\u001b[39m\u001b[38;5;124m'\u001b[39m)\n\u001b[0;32m      4\u001b[0m plt\u001b[38;5;241m.\u001b[39mtitle(\u001b[38;5;124m'\u001b[39m\u001b[38;5;124mMonthly Transaction Amounts Over Time\u001b[39m\u001b[38;5;124m'\u001b[39m)\n\u001b[0;32m      5\u001b[0m plt\u001b[38;5;241m.\u001b[39mxlabel(\u001b[38;5;124m'\u001b[39m\u001b[38;5;124mMonth\u001b[39m\u001b[38;5;124m'\u001b[39m)\n",
      "File \u001b[1;32m~\\AppData\\Local\\anaconda3\\Lib\\site-packages\\seaborn\\relational.py:645\u001b[0m, in \u001b[0;36mlineplot\u001b[1;34m(data, x, y, hue, size, style, units, palette, hue_order, hue_norm, sizes, size_order, size_norm, dashes, markers, style_order, estimator, errorbar, n_boot, seed, orient, sort, err_style, err_kws, legend, ci, ax, **kwargs)\u001b[0m\n\u001b[0;32m    642\u001b[0m color \u001b[38;5;241m=\u001b[39m kwargs\u001b[38;5;241m.\u001b[39mpop(\u001b[38;5;124m\"\u001b[39m\u001b[38;5;124mcolor\u001b[39m\u001b[38;5;124m\"\u001b[39m, kwargs\u001b[38;5;241m.\u001b[39mpop(\u001b[38;5;124m\"\u001b[39m\u001b[38;5;124mc\u001b[39m\u001b[38;5;124m\"\u001b[39m, \u001b[38;5;28;01mNone\u001b[39;00m))\n\u001b[0;32m    643\u001b[0m kwargs[\u001b[38;5;124m\"\u001b[39m\u001b[38;5;124mcolor\u001b[39m\u001b[38;5;124m\"\u001b[39m] \u001b[38;5;241m=\u001b[39m _default_color(ax\u001b[38;5;241m.\u001b[39mplot, hue, color, kwargs)\n\u001b[1;32m--> 645\u001b[0m p\u001b[38;5;241m.\u001b[39mplot(ax, kwargs)\n\u001b[0;32m    646\u001b[0m \u001b[38;5;28;01mreturn\u001b[39;00m ax\n",
      "File \u001b[1;32m~\\AppData\\Local\\anaconda3\\Lib\\site-packages\\seaborn\\relational.py:423\u001b[0m, in \u001b[0;36m_LinePlotter.plot\u001b[1;34m(self, ax, kws)\u001b[0m\n\u001b[0;32m    415\u001b[0m \u001b[38;5;66;03m# TODO How to handle NA? We don't want NA to propagate through to the\u001b[39;00m\n\u001b[0;32m    416\u001b[0m \u001b[38;5;66;03m# estimate/CI when some values are present, but we would also like\u001b[39;00m\n\u001b[0;32m    417\u001b[0m \u001b[38;5;66;03m# matplotlib to show \"gaps\" in the line when all values are missing.\u001b[39;00m\n\u001b[1;32m   (...)\u001b[0m\n\u001b[0;32m    420\u001b[0m \n\u001b[0;32m    421\u001b[0m \u001b[38;5;66;03m# Loop over the semantic subsets and add to the plot\u001b[39;00m\n\u001b[0;32m    422\u001b[0m grouping_vars \u001b[38;5;241m=\u001b[39m \u001b[38;5;124m\"\u001b[39m\u001b[38;5;124mhue\u001b[39m\u001b[38;5;124m\"\u001b[39m, \u001b[38;5;124m\"\u001b[39m\u001b[38;5;124msize\u001b[39m\u001b[38;5;124m\"\u001b[39m, \u001b[38;5;124m\"\u001b[39m\u001b[38;5;124mstyle\u001b[39m\u001b[38;5;124m\"\u001b[39m\n\u001b[1;32m--> 423\u001b[0m \u001b[38;5;28;01mfor\u001b[39;00m sub_vars, sub_data \u001b[38;5;129;01min\u001b[39;00m \u001b[38;5;28mself\u001b[39m\u001b[38;5;241m.\u001b[39miter_data(grouping_vars, from_comp_data\u001b[38;5;241m=\u001b[39m\u001b[38;5;28;01mTrue\u001b[39;00m):\n\u001b[0;32m    425\u001b[0m     \u001b[38;5;28;01mif\u001b[39;00m \u001b[38;5;28mself\u001b[39m\u001b[38;5;241m.\u001b[39msort:\n\u001b[0;32m    426\u001b[0m         sort_vars \u001b[38;5;241m=\u001b[39m [\u001b[38;5;124m\"\u001b[39m\u001b[38;5;124munits\u001b[39m\u001b[38;5;124m\"\u001b[39m, orient, other]\n",
      "File \u001b[1;32m~\\AppData\\Local\\anaconda3\\Lib\\site-packages\\seaborn\\_oldcore.py:1028\u001b[0m, in \u001b[0;36mVectorPlotter.iter_data\u001b[1;34m(self, grouping_vars, reverse, from_comp_data, by_facet, allow_empty, dropna)\u001b[0m\n\u001b[0;32m   1023\u001b[0m grouping_vars \u001b[38;5;241m=\u001b[39m [\n\u001b[0;32m   1024\u001b[0m     var \u001b[38;5;28;01mfor\u001b[39;00m var \u001b[38;5;129;01min\u001b[39;00m grouping_vars \u001b[38;5;28;01mif\u001b[39;00m var \u001b[38;5;129;01min\u001b[39;00m \u001b[38;5;28mself\u001b[39m\u001b[38;5;241m.\u001b[39mvariables\n\u001b[0;32m   1025\u001b[0m ]\n\u001b[0;32m   1027\u001b[0m \u001b[38;5;28;01mif\u001b[39;00m from_comp_data:\n\u001b[1;32m-> 1028\u001b[0m     data \u001b[38;5;241m=\u001b[39m \u001b[38;5;28mself\u001b[39m\u001b[38;5;241m.\u001b[39mcomp_data\n\u001b[0;32m   1029\u001b[0m \u001b[38;5;28;01melse\u001b[39;00m:\n\u001b[0;32m   1030\u001b[0m     data \u001b[38;5;241m=\u001b[39m \u001b[38;5;28mself\u001b[39m\u001b[38;5;241m.\u001b[39mplot_data\n",
      "File \u001b[1;32m~\\AppData\\Local\\anaconda3\\Lib\\site-packages\\seaborn\\_oldcore.py:1126\u001b[0m, in \u001b[0;36mVectorPlotter.comp_data\u001b[1;34m(self)\u001b[0m\n\u001b[0;32m   1121\u001b[0m     \u001b[38;5;28;01mif\u001b[39;00m var \u001b[38;5;129;01min\u001b[39;00m \u001b[38;5;28mself\u001b[39m\u001b[38;5;241m.\u001b[39mvar_levels:\n\u001b[0;32m   1122\u001b[0m         \u001b[38;5;66;03m# TODO this should happen in some centralized location\u001b[39;00m\n\u001b[0;32m   1123\u001b[0m         \u001b[38;5;66;03m# it is similar to GH2419, but more complicated because\u001b[39;00m\n\u001b[0;32m   1124\u001b[0m         \u001b[38;5;66;03m# supporting `order` in categorical plots is tricky\u001b[39;00m\n\u001b[0;32m   1125\u001b[0m         orig \u001b[38;5;241m=\u001b[39m orig[orig\u001b[38;5;241m.\u001b[39misin(\u001b[38;5;28mself\u001b[39m\u001b[38;5;241m.\u001b[39mvar_levels[var])]\n\u001b[1;32m-> 1126\u001b[0m comp \u001b[38;5;241m=\u001b[39m pd\u001b[38;5;241m.\u001b[39mto_numeric(converter\u001b[38;5;241m.\u001b[39mconvert_units(orig))\n\u001b[0;32m   1127\u001b[0m \u001b[38;5;28;01mif\u001b[39;00m converter\u001b[38;5;241m.\u001b[39mget_scale() \u001b[38;5;241m==\u001b[39m \u001b[38;5;124m\"\u001b[39m\u001b[38;5;124mlog\u001b[39m\u001b[38;5;124m\"\u001b[39m:\n\u001b[0;32m   1128\u001b[0m     comp \u001b[38;5;241m=\u001b[39m np\u001b[38;5;241m.\u001b[39mlog10(comp)\n",
      "File \u001b[1;32m~\\AppData\\Local\\anaconda3\\Lib\\site-packages\\pandas\\core\\tools\\numeric.py:222\u001b[0m, in \u001b[0;36mto_numeric\u001b[1;34m(arg, errors, downcast, dtype_backend)\u001b[0m\n\u001b[0;32m    220\u001b[0m coerce_numeric \u001b[38;5;241m=\u001b[39m errors \u001b[38;5;129;01mnot\u001b[39;00m \u001b[38;5;129;01min\u001b[39;00m (\u001b[38;5;124m\"\u001b[39m\u001b[38;5;124mignore\u001b[39m\u001b[38;5;124m\"\u001b[39m, \u001b[38;5;124m\"\u001b[39m\u001b[38;5;124mraise\u001b[39m\u001b[38;5;124m\"\u001b[39m)\n\u001b[0;32m    221\u001b[0m \u001b[38;5;28;01mtry\u001b[39;00m:\n\u001b[1;32m--> 222\u001b[0m     values, new_mask \u001b[38;5;241m=\u001b[39m lib\u001b[38;5;241m.\u001b[39mmaybe_convert_numeric(  \u001b[38;5;66;03m# type: ignore[call-overload]  # noqa: E501\u001b[39;00m\n\u001b[0;32m    223\u001b[0m         values,\n\u001b[0;32m    224\u001b[0m         \u001b[38;5;28mset\u001b[39m(),\n\u001b[0;32m    225\u001b[0m         coerce_numeric\u001b[38;5;241m=\u001b[39mcoerce_numeric,\n\u001b[0;32m    226\u001b[0m         convert_to_masked_nullable\u001b[38;5;241m=\u001b[39mdtype_backend \u001b[38;5;129;01mis\u001b[39;00m \u001b[38;5;129;01mnot\u001b[39;00m lib\u001b[38;5;241m.\u001b[39mno_default\n\u001b[0;32m    227\u001b[0m         \u001b[38;5;129;01mor\u001b[39;00m \u001b[38;5;28misinstance\u001b[39m(values_dtype, StringDtype)\n\u001b[0;32m    228\u001b[0m         \u001b[38;5;129;01mand\u001b[39;00m \u001b[38;5;129;01mnot\u001b[39;00m values_dtype\u001b[38;5;241m.\u001b[39mstorage \u001b[38;5;241m==\u001b[39m \u001b[38;5;124m\"\u001b[39m\u001b[38;5;124mpyarrow_numpy\u001b[39m\u001b[38;5;124m\"\u001b[39m,\n\u001b[0;32m    229\u001b[0m     )\n\u001b[0;32m    230\u001b[0m \u001b[38;5;28;01mexcept\u001b[39;00m (\u001b[38;5;167;01mValueError\u001b[39;00m, \u001b[38;5;167;01mTypeError\u001b[39;00m):\n\u001b[0;32m    231\u001b[0m     \u001b[38;5;28;01mif\u001b[39;00m errors \u001b[38;5;241m==\u001b[39m \u001b[38;5;124m\"\u001b[39m\u001b[38;5;124mraise\u001b[39m\u001b[38;5;124m\"\u001b[39m:\n",
      "File \u001b[1;32mlib.pyx:2416\u001b[0m, in \u001b[0;36mpandas._libs.lib.maybe_convert_numeric\u001b[1;34m()\u001b[0m\n",
      "\u001b[1;31mTypeError\u001b[0m: Invalid object type at position 0"
     ]
    },
    {
     "data": {
      "image/png": "[encoded data removed]",
      "text/plain": [
       "<Figure size 1400x700 with 1 Axes>"
      ]
     },
     "metadata": {},
     "output_type": "display_data"
    }
   ],
   "source": [
    "# Plotting monthly transaction amounts\n",
    "plt.figure(figsize=(14, 7))\n",
    "sns.lineplot(data=monthly_transactions, x='year_month', y='TransactionAmount')\n",
    "plt.title('Monthly Transaction Amounts Over Time')\n",
    "plt.xlabel('Month')\n",
    "plt.ylabel('Total Transaction Amount')\n",
    "plt.xticks(rotation=45)\n",
    "plt.show()"
   ]
  },
  {
   "cell_type": "code",
   "execution_count": 77,
   "id": "23385004-5994-4fe4-baa3-18d492a75c4b",
   "metadata": {},
   "outputs": [],
   "source": [
    "# Group by suspicion flag and fraud flag\n",
    "suspicion_fraud_analysis = cust_trans.groupby(['SuspiciousFlag', 'FraudIndicator']).size().unstack(fill_value=0)\n",
    "\n"
   ]
  },
  {
   "cell_type": "code",
   "execution_count": 80,
   "id": "09d6e555-e860-405a-94cb-d2f3de374d23",
   "metadata": {},
   "outputs": [
    {
     "data": {
      "text/plain": [
       "<Figure size 800x600 with 0 Axes>"
      ]
     },
     "metadata": {},
     "output_type": "display_data"
    },
    {
     "data": {
      "image/png": "[encoded data removed]",
      "text/plain": [
       "<Figure size 640x480 with 1 Axes>"
      ]
     },
     "metadata": {},
     "output_type": "display_data"
    }
   ],
   "source": [
    "# Plotting\n",
    "plt.figure(figsize=(8, 6))\n",
    "suspicion_fraud_analysis.plot(kind='bar', stacked=True)\n",
    "plt.title('SuspiciousFlag vs. FraudIndicator')\n",
    "plt.xlabel('Suspicious Flag')\n",
    "plt.ylabel('Count of Transactions')\n",
    "plt.legend(title='Fraud Flag')\n",
    "plt.xticks(rotation=0)\n",
    "plt.show()\n",
    "# suspicous flag not a good indactor of fraud"
   ]
  },
  {
   "cell_type": "code",
   "execution_count": 91,
   "id": "eb5a3104-d52a-4b97-8c03-9f2cb9972863",
   "metadata": {},
   "outputs": [],
   "source": [
    "# Analyze fraud incidence by merchant name\n",
    "\n",
    "fraud_by_merchant = cust_trans[cust_trans['FraudIndicator'] == 1].groupby('MerchantName')['TransactionAmount'].sum().reset_index()"
   ]
  },
  {
   "cell_type": "code",
   "execution_count": 92,
   "id": "6329f3cb-4124-4c9e-aa2e-4b61e05b42cd",
   "metadata": {},
   "outputs": [
    {
     "data": {
      "text/html": [
       "<div>\n",
       "<style scoped>\n",
       "    .dataframe tbody tr th:only-of-type {\n",
       "        vertical-align: middle;\n",
       "    }\n",
       "\n",
       "    .dataframe tbody tr th {\n",
       "        vertical-align: top;\n",
       "    }\n",
       "\n",
       "    .dataframe thead th {\n",
       "        text-align: right;\n",
       "    }\n",
       "</style>\n",
       "<table border=\"1\" class=\"dataframe\">\n",
       "  <thead>\n",
       "    <tr style=\"text-align: right;\">\n",
       "      <th></th>\n",
       "      <th>MerchantName</th>\n",
       "      <th>TransactionAmount</th>\n",
       "    </tr>\n",
       "  </thead>\n",
       "  <tbody>\n",
       "    <tr>\n",
       "      <th>0</th>\n",
       "      <td>Merchant 2022</td>\n",
       "      <td>86.590498</td>\n",
       "    </tr>\n",
       "    <tr>\n",
       "      <th>1</th>\n",
       "      <td>Merchant 2028</td>\n",
       "      <td>25.070084</td>\n",
       "    </tr>\n",
       "    <tr>\n",
       "      <th>2</th>\n",
       "      <td>Merchant 2038</td>\n",
       "      <td>49.416204</td>\n",
       "    </tr>\n",
       "    <tr>\n",
       "      <th>3</th>\n",
       "      <td>Merchant 2048</td>\n",
       "      <td>76.909955</td>\n",
       "    </tr>\n",
       "    <tr>\n",
       "      <th>4</th>\n",
       "      <td>Merchant 2057</td>\n",
       "      <td>11.829615</td>\n",
       "    </tr>\n",
       "  </tbody>\n",
       "</table>\n",
       "</div>"
      ],
      "text/plain": [
       "    MerchantName  TransactionAmount\n",
       "0  Merchant 2022          86.590498\n",
       "1  Merchant 2028          25.070084\n",
       "2  Merchant 2038          49.416204\n",
       "3  Merchant 2048          76.909955\n",
       "4  Merchant 2057          11.829615"
      ]
     },
     "execution_count": 92,
     "metadata": {},
     "output_type": "execute_result"
    }
   ],
   "source": [
    "fraud_by_merchant.head()"
   ]
  },
  {
   "cell_type": "code",
   "execution_count": 93,
   "id": "0b67f1d8-7f38-4354-b74c-df9d992322ac",
   "metadata": {},
   "outputs": [],
   "source": [
    "#fraud_by_merchant= fraud_by_location.sort_values(by = 'TransactionAmount', ascending= False)"
   ]
  },
  {
   "cell_type": "code",
   "execution_count": 95,
   "id": "134d5c1a-b332-4b2a-b0e6-1fb84baf5df4",
   "metadata": {},
   "outputs": [
    {
     "data": {
      "image/png": "[encoded data removed]",
      "text/plain": [
       "<Figure size 1200x600 with 1 Axes>"
      ]
     },
     "metadata": {},
     "output_type": "display_data"
    }
   ],
   "source": [
    "# Plotting top merchants with fraud incidents\n",
    "top_fraud_merchants = fraud_by_merchant.sort_values(by='TransactionAmount', ascending=False).head(20)\n",
    "\n",
    "plt.figure(figsize=(12, 6))\n",
    "sns.barplot(data=top_fraud_merchants,x= 'MerchantName', y='TransactionAmount')\n",
    "plt.title('Top Merchants by Fraudulent Transaction Amount')\n",
    "plt.xlabel('Merchant Name')\n",
    "plt.ylabel('Total Fraudulent Transaction Amount')\n",
    "plt.xticks(rotation=45)\n",
    "plt.show()"
   ]
  },
  {
   "cell_type": "code",
   "execution_count": null,
   "id": "d4de0f4e-b023-43e6-8dab-fbec7a149314",
   "metadata": {},
   "outputs": [],
   "source": []
  },
  {
   "cell_type": "code",
   "execution_count": 229,
   "id": "354fd232-0f55-4c0c-afe3-8513cfd17dea",
   "metadata": {},
   "outputs": [
    {
     "data": {
      "image/png": "[encoded data removed]",
      "text/plain": [
       "<Figure size 1200x600 with 1 Axes>"
      ]
     },
     "metadata": {},
     "output_type": "display_data"
    }
   ],
   "source": [
    "# Plotting bottom merchants with fraud incidents\n",
    "bottom_fraud_merchants = fraud_by_merchant.sort_values(by='TransactionAmount', ascending=False).tail(20)\n",
    "\n",
    "plt.figure(figsize=(12, 6))\n",
    "sns.barplot(data=top_fraud_merchants,x= 'MerchantName', y='TransactionAmount')\n",
    "plt.title('Top Merchants by Fraudulent Transaction Amount')\n",
    "plt.xlabel('Merchant Name')\n",
    "plt.ylabel('Total Fraudulent Transaction Amount')\n",
    "plt.xticks(rotation=45)\n",
    "plt.show()\n",
    "# all merchants have expeinced fraud but some higher values than others"
   ]
  },
  {
   "cell_type": "code",
   "execution_count": null,
   "id": "c0ba7563-31bf-468f-8696-13b1f6eaa64f",
   "metadata": {},
   "outputs": [],
   "source": []
  },
  {
   "cell_type": "code",
   "execution_count": 232,
   "id": "3605c363-c00f-4732-89e0-aaf4468ec4a6",
   "metadata": {},
   "outputs": [],
   "source": [
    "# Analyze account balance of fraudulent transactions\n",
    "fraud_balances = cust_trans[cust_trans['FraudIndicator'] == 1]['AccountBalance']"
   ]
  },
  {
   "cell_type": "code",
   "execution_count": 233,
   "id": "b7dbfffa-ab3d-4318-a443-422c1ddf0a91",
   "metadata": {},
   "outputs": [
    {
     "data": {
      "image/png": "[encoded data removed]",
      "text/plain": [
       "<Figure size 1000x600 with 1 Axes>"
      ]
     },
     "metadata": {},
     "output_type": "display_data"
    }
   ],
   "source": [
    "plt.figure(figsize=(10, 6))\n",
    "sns.boxplot(x=fraud_balances)\n",
    "plt.title('Account Balances of Fraudulent Transactions')\n",
    "plt.xlabel('Account Balance')\n",
    "plt.show()\n",
    "# no outliers in account balances with fraud"
   ]
  },
  {
   "cell_type": "code",
   "execution_count": 98,
   "id": "b0943148-b472-466b-bb78-2e51a4ca51a1",
   "metadata": {},
   "outputs": [
    {
     "name": "stderr",
     "output_type": "stream",
     "text": [
      "C:\\Users\\vincent.chaparadza\\AppData\\Local\\anaconda3\\Lib\\site-packages\\seaborn\\_oldcore.py:1119: FutureWarning: use_inf_as_na option is deprecated and will be removed in a future version. Convert inf values to NaN before operating instead.\n",
      "  with pd.option_context('mode.use_inf_as_na', True):\n"
     ]
    },
    {
     "data": {
      "image/png": "[encoded data removed]",
      "text/plain": [
       "<Figure size 1000x600 with 1 Axes>"
      ]
     },
     "metadata": {},
     "output_type": "display_data"
    }
   ],
   "source": [
    "# Analyze age distribution for fraudulent transactions\n",
    "plt.figure(figsize=(10, 6))\n",
    "sns.histplot(cust_trans[cust_trans['FraudIndicator'] == 1]['Age'], bins=30, kde=True)\n",
    "plt.title('Age Distribution of Fraudulent Transactions')\n",
    "plt.xlabel('Age')\n",
    "plt.ylabel('Frequency')\n",
    "plt.show()"
   ]
  },
  {
   "cell_type": "code",
   "execution_count": 99,
   "id": "f828aef9-fd36-4e5d-96fb-f0a91e4f72c9",
   "metadata": {},
   "outputs": [],
   "source": [
    "# Analyze fraud incidence by location\n",
    "fraud_by_location = cust_trans[cust_trans['FraudIndicator'] == 1].groupby('Location')['TransactionAmount'].sum().reset_index()"
   ]
  },
  {
   "cell_type": "code",
   "execution_count": 100,
   "id": "c32e6748-d6a3-4798-8454-5a32fc66bd14",
   "metadata": {},
   "outputs": [
    {
     "data": {
      "image/png": "[encoded data removed]",
      "text/plain": [
       "<Figure size 1200x600 with 1 Axes>"
      ]
     },
     "metadata": {},
     "output_type": "display_data"
    }
   ],
   "source": [
    "# Plotting top locations with fraud incidents\n",
    "top_fraud_locations = fraud_by_location.sort_values(by='TransactionAmount', ascending=False).head(10)\n",
    "\n",
    "plt.figure(figsize=(12, 6))\n",
    "sns.barplot(data=top_fraud_locations, x='Location', y='TransactionAmount')\n",
    "plt.title('Top Locations by Fraudulent Transaction Amount')\n",
    "plt.xlabel('Location')\n",
    "plt.ylabel('Total Fraudulent Transaction Amount')\n",
    "plt.xticks(rotation=45)\n",
    "plt.show()"
   ]
  },
  {
   "cell_type": "code",
   "execution_count": 101,
   "id": "59462df2-d681-445d-8821-055978c078f8",
   "metadata": {},
   "outputs": [],
   "source": [
    "# Count of transactions by suspicion flag\n",
    "suspicious_counts = cust_trans['FraudIndicator'].value_counts()"
   ]
  },
  {
   "cell_type": "code",
   "execution_count": 102,
   "id": "a3244e24-3a17-41ce-b3b8-c987396da0b1",
   "metadata": {},
   "outputs": [
    {
     "data": {
      "image/png": "[encoded data removed]",
      "text/plain": [
       "<Figure size 800x600 with 1 Axes>"
      ]
     },
     "metadata": {},
     "output_type": "display_data"
    }
   ],
   "source": [
    "plt.figure(figsize=(8, 6))\n",
    "sns.barplot(x=suspicious_counts.index, y=suspicious_counts.values)\n",
    "plt.title('Count of Transactions by Fraud')\n",
    "plt.xlabel('Fraud Indicator')\n",
    "plt.ylabel('Number of Transactions')\n",
    "plt.xticks(rotation=0)\n",
    "plt.show()\n",
    "# data is imbalanced"
   ]
  },
  {
   "cell_type": "code",
   "execution_count": 103,
   "id": "bbc247a6-34c3-4530-b362-efa7961c18cf",
   "metadata": {},
   "outputs": [
    {
     "data": {
      "image/png": "[encoded data removed]",
      "text/plain": [
       "<Figure size 640x480 with 1 Axes>"
      ]
     },
     "metadata": {},
     "output_type": "display_data"
    }
   ],
   "source": [
    "sns.boxplot(x=cust_trans['TransactionAmount'])\n",
    "plt.title('Box Plot of Transaction Amounts')\n",
    "plt.show()\n",
    "# no outliers in transaction amounts"
   ]
  },
  {
   "cell_type": "code",
   "execution_count": 104,
   "id": "52702677-dc0d-4425-8932-2bd28b0edad7",
   "metadata": {},
   "outputs": [
    {
     "data": {
      "image/png": "[encoded data removed]",
      "text/plain": [
       "<Figure size 640x480 with 1 Axes>"
      ]
     },
     "metadata": {},
     "output_type": "display_data"
    }
   ],
   "source": [
    "sns.boxplot(x=cust_trans['Amount'])\n",
    "plt.title('Box Plot of Amount')\n",
    "plt.show()\n",
    "# no outliers in amounts\n"
   ]
  },
  {
   "cell_type": "code",
   "execution_count": 105,
   "id": "dd063665-4a66-41f4-a145-94dacaadd3da",
   "metadata": {},
   "outputs": [],
   "source": [
    "# Remove non-numerical columns\n",
    "cust_numerical = cust_trans.select_dtypes(include='number')"
   ]
  },
  {
   "cell_type": "code",
   "execution_count": null,
   "id": "b9a547af-3d0a-4738-ad09-876e5817cb93",
   "metadata": {},
   "outputs": [],
   "source": []
  },
  {
   "cell_type": "code",
   "execution_count": 106,
   "id": "944795f1-a4ae-4ea5-944a-77da3eadad61",
   "metadata": {},
   "outputs": [
    {
     "name": "stdout",
     "output_type": "stream",
     "text": [
      "FraudIndicator       1.000000\n",
      "SuspiciousFlag       0.057932\n",
      "CustomerID           0.055430\n",
      "Amount               0.014625\n",
      "Hour                 0.010737\n",
      "MerchantID          -0.000528\n",
      "AccountBalance      -0.004391\n",
      "Age                 -0.021468\n",
      "TransactionAmount   -0.033456\n",
      "TransactionID       -0.035885\n",
      "AnomalyScore        -0.048198\n",
      "Name: FraudIndicator, dtype: float64\n"
     ]
    }
   ],
   "source": [
    "# Calculate correlation matrix\n",
    "correlation_matrix = cust_numerical.corr()\n",
    "print(correlation_matrix['FraudIndicator'].sort_values(ascending=False))"
   ]
  },
  {
   "cell_type": "code",
   "execution_count": 107,
   "id": "bf93d601-c90b-4c82-b7f8-b5783ba3fb6c",
   "metadata": {},
   "outputs": [
    {
     "data": {
      "image/png": "[encoded data removed]",
      "text/plain": [
       "<Figure size 640x480 with 2 Axes>"
      ]
     },
     "metadata": {},
     "output_type": "display_data"
    }
   ],
   "source": [
    "sns.heatmap(correlation_matrix, annot=True, cmap='coolwarm')\n",
    "plt.show()\n",
    "# weak correlations"
   ]
  },
  {
   "cell_type": "code",
   "execution_count": 108,
   "id": "835effc7-7b1b-4684-a227-48c1c13203ea",
   "metadata": {},
   "outputs": [],
   "source": [
    "# dropping unnecssary columns\n",
    "cust_trans_drop= cust_trans.drop(columns=['TransactionID', 'Age', 'CustomerID','Address', 'Name', 'MerchantID', 'Location','MerchantName'], axis= 1)"
   ]
  },
  {
   "cell_type": "code",
   "execution_count": 109,
   "id": "385e3719-8795-448d-90d6-a669de725713",
   "metadata": {},
   "outputs": [
    {
     "data": {
      "text/plain": [
       "FraudIndicator\n",
       "0    955\n",
       "1     45\n",
       "Name: count, dtype: int64"
      ]
     },
     "execution_count": 109,
     "metadata": {},
     "output_type": "execute_result"
    }
   ],
   "source": [
    "cust_trans_drop['FraudIndicator'].value_counts()"
   ]
  },
  {
   "cell_type": "code",
   "execution_count": 110,
   "id": "81fe0632-a3bf-4855-9d0e-8d7d6d8fa256",
   "metadata": {},
   "outputs": [
    {
     "data": {
      "text/plain": [
       "SuspiciousFlag\n",
       "0    975\n",
       "1     25\n",
       "Name: count, dtype: int64"
      ]
     },
     "execution_count": 110,
     "metadata": {},
     "output_type": "execute_result"
    }
   ],
   "source": [
    "cust_trans_drop['SuspiciousFlag'].value_counts()"
   ]
  },
  {
   "cell_type": "code",
   "execution_count": 111,
   "id": "55b7133f-fd55-4e95-b5fc-c36bd63a6ed5",
   "metadata": {},
   "outputs": [
    {
     "data": {
      "text/plain": [
       "Category\n",
       "Other     210\n",
       "Food      204\n",
       "Travel    198\n",
       "Online    196\n",
       "Retail    192\n",
       "Name: count, dtype: int64"
      ]
     },
     "execution_count": 111,
     "metadata": {},
     "output_type": "execute_result"
    }
   ],
   "source": [
    "cust_trans_drop['Category'].value_counts()"
   ]
  },
  {
   "cell_type": "code",
   "execution_count": 112,
   "id": "137a362a-0c5b-4fbb-ba46-d4a9a39bc7ef",
   "metadata": {},
   "outputs": [],
   "source": [
    "cust_trans_drop['Timestamp']= pd.to_datetime(cust_trans_drop['Timestamp'])"
   ]
  },
  {
   "cell_type": "code",
   "execution_count": 113,
   "id": "7ce408ec-345d-4e06-8f09-33aa6e2e0ead",
   "metadata": {},
   "outputs": [],
   "source": [
    "cust_trans_drop['LastLogin']=pd.to_datetime(cust_trans_drop['LastLogin'])"
   ]
  },
  {
   "cell_type": "code",
   "execution_count": 114,
   "id": "febff76f-4a1c-4a2a-b86e-4f3a58f3857c",
   "metadata": {},
   "outputs": [
    {
     "name": "stdout",
     "output_type": "stream",
     "text": [
      "<class 'pandas.core.frame.DataFrame'>\n",
      "RangeIndex: 1000 entries, 0 to 999\n",
      "Data columns (total 11 columns):\n",
      " #   Column             Non-Null Count  Dtype         \n",
      "---  ------             --------------  -----         \n",
      " 0   AccountBalance     1000 non-null   float64       \n",
      " 1   LastLogin          1000 non-null   datetime64[ns]\n",
      " 2   SuspiciousFlag     1000 non-null   int64         \n",
      " 3   TransactionAmount  1000 non-null   float64       \n",
      " 4   Category           1000 non-null   object        \n",
      " 5   Timestamp          1000 non-null   datetime64[ns]\n",
      " 6   Amount             1000 non-null   float64       \n",
      " 7   FraudIndicator     1000 non-null   int64         \n",
      " 8   AnomalyScore       1000 non-null   float64       \n",
      " 9   year_month         1000 non-null   period[M]     \n",
      " 10  Hour               1000 non-null   int32         \n",
      "dtypes: datetime64[ns](2), float64(4), int32(1), int64(2), object(1), period[M](1)\n",
      "memory usage: 82.2+ KB\n"
     ]
    }
   ],
   "source": [
    "cust_trans_drop.info()"
   ]
  },
  {
   "cell_type": "code",
   "execution_count": 115,
   "id": "88f86970-cdae-4286-829a-572149b8d845",
   "metadata": {},
   "outputs": [],
   "source": [
    "# create new column - diffrenece btwn last logon and transaction\n",
    "cust_trans_drop['Time_diff']= cust_trans_drop['Timestamp']- cust_trans_drop['LastLogin']"
   ]
  },
  {
   "cell_type": "code",
   "execution_count": 116,
   "id": "5900004f-81db-46a1-9f19-8e1a153ac509",
   "metadata": {},
   "outputs": [],
   "source": [
    " # change to days only\n",
    "cust_trans_drop['Time_diff'] = pd.to_timedelta(cust_trans_drop['Time_diff']).dt.days "
   ]
  },
  {
   "cell_type": "code",
   "execution_count": 117,
   "id": "af125325-4f27-4e54-81db-f4d666042cd5",
   "metadata": {},
   "outputs": [
    {
     "data": {
      "text/html": [
       "<div>\n",
       "<style scoped>\n",
       "    .dataframe tbody tr th:only-of-type {\n",
       "        vertical-align: middle;\n",
       "    }\n",
       "\n",
       "    .dataframe tbody tr th {\n",
       "        vertical-align: top;\n",
       "    }\n",
       "\n",
       "    .dataframe thead th {\n",
       "        text-align: right;\n",
       "    }\n",
       "</style>\n",
       "<table border=\"1\" class=\"dataframe\">\n",
       "  <thead>\n",
       "    <tr style=\"text-align: right;\">\n",
       "      <th></th>\n",
       "      <th>AccountBalance</th>\n",
       "      <th>LastLogin</th>\n",
       "      <th>SuspiciousFlag</th>\n",
       "      <th>TransactionAmount</th>\n",
       "      <th>Category</th>\n",
       "      <th>Timestamp</th>\n",
       "      <th>Amount</th>\n",
       "      <th>FraudIndicator</th>\n",
       "      <th>AnomalyScore</th>\n",
       "      <th>year_month</th>\n",
       "      <th>Hour</th>\n",
       "      <th>Time_diff</th>\n",
       "    </tr>\n",
       "  </thead>\n",
       "  <tbody>\n",
       "    <tr>\n",
       "      <th>0</th>\n",
       "      <td>9507.272060</td>\n",
       "      <td>2022-01-01</td>\n",
       "      <td>0</td>\n",
       "      <td>87.375444</td>\n",
       "      <td>Food</td>\n",
       "      <td>2022-02-02 18:00:00</td>\n",
       "      <td>33.670626</td>\n",
       "      <td>0</td>\n",
       "      <td>0.030921</td>\n",
       "      <td>2022-02</td>\n",
       "      <td>18</td>\n",
       "      <td>32</td>\n",
       "    </tr>\n",
       "    <tr>\n",
       "      <th>1</th>\n",
       "      <td>7268.827350</td>\n",
       "      <td>2023-03-17</td>\n",
       "      <td>0</td>\n",
       "      <td>71.337967</td>\n",
       "      <td>Food</td>\n",
       "      <td>2022-01-11 16:00:00</td>\n",
       "      <td>23.740319</td>\n",
       "      <td>0</td>\n",
       "      <td>0.555628</td>\n",
       "      <td>2022-01</td>\n",
       "      <td>16</td>\n",
       "      <td>-430</td>\n",
       "    </tr>\n",
       "    <tr>\n",
       "      <th>2</th>\n",
       "      <td>1715.321989</td>\n",
       "      <td>2022-01-03</td>\n",
       "      <td>0</td>\n",
       "      <td>46.044172</td>\n",
       "      <td>Travel</td>\n",
       "      <td>2022-01-27 16:00:00</td>\n",
       "      <td>30.980239</td>\n",
       "      <td>0</td>\n",
       "      <td>0.961552</td>\n",
       "      <td>2022-01</td>\n",
       "      <td>16</td>\n",
       "      <td>24</td>\n",
       "    </tr>\n",
       "    <tr>\n",
       "      <th>3</th>\n",
       "      <td>3101.509134</td>\n",
       "      <td>2022-01-04</td>\n",
       "      <td>0</td>\n",
       "      <td>85.085061</td>\n",
       "      <td>Other</td>\n",
       "      <td>2022-01-19 17:00:00</td>\n",
       "      <td>11.167088</td>\n",
       "      <td>0</td>\n",
       "      <td>0.525809</td>\n",
       "      <td>2022-01</td>\n",
       "      <td>17</td>\n",
       "      <td>15</td>\n",
       "    </tr>\n",
       "    <tr>\n",
       "      <th>4</th>\n",
       "      <td>6847.490921</td>\n",
       "      <td>2024-02-09</td>\n",
       "      <td>1</td>\n",
       "      <td>33.420638</td>\n",
       "      <td>Other</td>\n",
       "      <td>2022-01-26 12:00:00</td>\n",
       "      <td>16.182847</td>\n",
       "      <td>0</td>\n",
       "      <td>0.260799</td>\n",
       "      <td>2022-01</td>\n",
       "      <td>12</td>\n",
       "      <td>-744</td>\n",
       "    </tr>\n",
       "  </tbody>\n",
       "</table>\n",
       "</div>"
      ],
      "text/plain": [
       "   AccountBalance  LastLogin  SuspiciousFlag  TransactionAmount Category  \\\n",
       "0     9507.272060 2022-01-01               0          87.375444     Food   \n",
       "1     7268.827350 2023-03-17               0          71.337967     Food   \n",
       "2     1715.321989 2022-01-03               0          46.044172   Travel   \n",
       "3     3101.509134 2022-01-04               0          85.085061    Other   \n",
       "4     6847.490921 2024-02-09               1          33.420638    Other   \n",
       "\n",
       "            Timestamp     Amount  FraudIndicator  AnomalyScore year_month  \\\n",
       "0 2022-02-02 18:00:00  33.670626               0      0.030921    2022-02   \n",
       "1 2022-01-11 16:00:00  23.740319               0      0.555628    2022-01   \n",
       "2 2022-01-27 16:00:00  30.980239               0      0.961552    2022-01   \n",
       "3 2022-01-19 17:00:00  11.167088               0      0.525809    2022-01   \n",
       "4 2022-01-26 12:00:00  16.182847               0      0.260799    2022-01   \n",
       "\n",
       "   Hour  Time_diff  \n",
       "0    18         32  \n",
       "1    16       -430  \n",
       "2    16         24  \n",
       "3    17         15  \n",
       "4    12       -744  "
      ]
     },
     "execution_count": 117,
     "metadata": {},
     "output_type": "execute_result"
    }
   ],
   "source": [
    "cust_trans_drop.head()"
   ]
  },
  {
   "cell_type": "code",
   "execution_count": 118,
   "id": "6adc1dec-896f-447c-a5c6-412199e9559d",
   "metadata": {},
   "outputs": [],
   "source": [
    "Y= cust_trans_drop['FraudIndicator']\n"
   ]
  },
  {
   "cell_type": "code",
   "execution_count": 119,
   "id": "ded27cb1-cf35-46be-bcc7-65ff8916fc49",
   "metadata": {},
   "outputs": [],
   "source": [
    "X= cust_trans_drop.drop(columns=['LastLogin','Timestamp', 'FraudIndicator'], axis=1)"
   ]
  },
  {
   "cell_type": "code",
   "execution_count": 120,
   "id": "efecd53b-33ad-4ff1-88c3-79c159f64fbb",
   "metadata": {},
   "outputs": [],
   "source": [
    "Lable_encoder = LabelEncoder()"
   ]
  },
  {
   "cell_type": "code",
   "execution_count": 121,
   "id": "fc9a58a5-7cb1-497e-a4b0-3fc1b22365e7",
   "metadata": {},
   "outputs": [],
   "source": [
    "# FIT ANDTRANSFORM\n",
    "X['Category']=Lable_encoder.fit_transform(X['Category'])"
   ]
  },
  {
   "cell_type": "code",
   "execution_count": 122,
   "id": "03c4017e-ce4d-404f-91e8-b150c88e3ba3",
   "metadata": {},
   "outputs": [],
   "source": [
    "# there is class imbalance so resample\n",
    "# Separate majority and minority classes\n",
    "df_majority = cust_trans_drop[cust_trans_drop['FraudIndicator'] == 0]\n",
    "df_minority = cust_trans_drop[cust_trans_drop['FraudIndicator'] == 1]"
   ]
  },
  {
   "cell_type": "code",
   "execution_count": 123,
   "id": "71f8d9fa-b6b6-41fa-81c6-17bd822b68a8",
   "metadata": {},
   "outputs": [
    {
     "data": {
      "text/html": [
       "<div>\n",
       "<style scoped>\n",
       "    .dataframe tbody tr th:only-of-type {\n",
       "        vertical-align: middle;\n",
       "    }\n",
       "\n",
       "    .dataframe tbody tr th {\n",
       "        vertical-align: top;\n",
       "    }\n",
       "\n",
       "    .dataframe thead th {\n",
       "        text-align: right;\n",
       "    }\n",
       "</style>\n",
       "<table border=\"1\" class=\"dataframe\">\n",
       "  <thead>\n",
       "    <tr style=\"text-align: right;\">\n",
       "      <th></th>\n",
       "      <th>AccountBalance</th>\n",
       "      <th>LastLogin</th>\n",
       "      <th>SuspiciousFlag</th>\n",
       "      <th>TransactionAmount</th>\n",
       "      <th>Category</th>\n",
       "      <th>Timestamp</th>\n",
       "      <th>Amount</th>\n",
       "      <th>FraudIndicator</th>\n",
       "      <th>AnomalyScore</th>\n",
       "      <th>year_month</th>\n",
       "      <th>Hour</th>\n",
       "      <th>Time_diff</th>\n",
       "    </tr>\n",
       "  </thead>\n",
       "  <tbody>\n",
       "    <tr>\n",
       "      <th>0</th>\n",
       "      <td>9507.272060</td>\n",
       "      <td>2022-01-01</td>\n",
       "      <td>0</td>\n",
       "      <td>87.375444</td>\n",
       "      <td>Food</td>\n",
       "      <td>2022-02-02 18:00:00</td>\n",
       "      <td>33.670626</td>\n",
       "      <td>0</td>\n",
       "      <td>0.030921</td>\n",
       "      <td>2022-02</td>\n",
       "      <td>18</td>\n",
       "      <td>32</td>\n",
       "    </tr>\n",
       "    <tr>\n",
       "      <th>1</th>\n",
       "      <td>7268.827350</td>\n",
       "      <td>2023-03-17</td>\n",
       "      <td>0</td>\n",
       "      <td>71.337967</td>\n",
       "      <td>Food</td>\n",
       "      <td>2022-01-11 16:00:00</td>\n",
       "      <td>23.740319</td>\n",
       "      <td>0</td>\n",
       "      <td>0.555628</td>\n",
       "      <td>2022-01</td>\n",
       "      <td>16</td>\n",
       "      <td>-430</td>\n",
       "    </tr>\n",
       "    <tr>\n",
       "      <th>2</th>\n",
       "      <td>1715.321989</td>\n",
       "      <td>2022-01-03</td>\n",
       "      <td>0</td>\n",
       "      <td>46.044172</td>\n",
       "      <td>Travel</td>\n",
       "      <td>2022-01-27 16:00:00</td>\n",
       "      <td>30.980239</td>\n",
       "      <td>0</td>\n",
       "      <td>0.961552</td>\n",
       "      <td>2022-01</td>\n",
       "      <td>16</td>\n",
       "      <td>24</td>\n",
       "    </tr>\n",
       "    <tr>\n",
       "      <th>3</th>\n",
       "      <td>3101.509134</td>\n",
       "      <td>2022-01-04</td>\n",
       "      <td>0</td>\n",
       "      <td>85.085061</td>\n",
       "      <td>Other</td>\n",
       "      <td>2022-01-19 17:00:00</td>\n",
       "      <td>11.167088</td>\n",
       "      <td>0</td>\n",
       "      <td>0.525809</td>\n",
       "      <td>2022-01</td>\n",
       "      <td>17</td>\n",
       "      <td>15</td>\n",
       "    </tr>\n",
       "    <tr>\n",
       "      <th>4</th>\n",
       "      <td>6847.490921</td>\n",
       "      <td>2024-02-09</td>\n",
       "      <td>1</td>\n",
       "      <td>33.420638</td>\n",
       "      <td>Other</td>\n",
       "      <td>2022-01-26 12:00:00</td>\n",
       "      <td>16.182847</td>\n",
       "      <td>0</td>\n",
       "      <td>0.260799</td>\n",
       "      <td>2022-01</td>\n",
       "      <td>12</td>\n",
       "      <td>-744</td>\n",
       "    </tr>\n",
       "  </tbody>\n",
       "</table>\n",
       "</div>"
      ],
      "text/plain": [
       "   AccountBalance  LastLogin  SuspiciousFlag  TransactionAmount Category  \\\n",
       "0     9507.272060 2022-01-01               0          87.375444     Food   \n",
       "1     7268.827350 2023-03-17               0          71.337967     Food   \n",
       "2     1715.321989 2022-01-03               0          46.044172   Travel   \n",
       "3     3101.509134 2022-01-04               0          85.085061    Other   \n",
       "4     6847.490921 2024-02-09               1          33.420638    Other   \n",
       "\n",
       "            Timestamp     Amount  FraudIndicator  AnomalyScore year_month  \\\n",
       "0 2022-02-02 18:00:00  33.670626               0      0.030921    2022-02   \n",
       "1 2022-01-11 16:00:00  23.740319               0      0.555628    2022-01   \n",
       "2 2022-01-27 16:00:00  30.980239               0      0.961552    2022-01   \n",
       "3 2022-01-19 17:00:00  11.167088               0      0.525809    2022-01   \n",
       "4 2022-01-26 12:00:00  16.182847               0      0.260799    2022-01   \n",
       "\n",
       "   Hour  Time_diff  \n",
       "0    18         32  \n",
       "1    16       -430  \n",
       "2    16         24  \n",
       "3    17         15  \n",
       "4    12       -744  "
      ]
     },
     "execution_count": 123,
     "metadata": {},
     "output_type": "execute_result"
    }
   ],
   "source": [
    "cust_trans_drop.head()"
   ]
  },
  {
   "cell_type": "code",
   "execution_count": 124,
   "id": "cdc36bda-3144-4179-8b5b-d5004b156465",
   "metadata": {},
   "outputs": [],
   "source": [
    "# Upsample minority class\n",
    "df_minority_upsampled = resample(df_minority, \n",
    "                                  replace=True,     # Sample with replacement\n",
    "                                  n_samples=len(df_majority),  # Match majority class\n",
    "                                  random_state=42)  # Reproducible results"
   ]
  },
  {
   "cell_type": "code",
   "execution_count": 125,
   "id": "e02c8f19-772d-4500-8d04-a3439d829175",
   "metadata": {},
   "outputs": [
    {
     "name": "stdout",
     "output_type": "stream",
     "text": [
      "FraudIndicator\n",
      "0    955\n",
      "1    955\n",
      "Name: count, dtype: int64\n"
     ]
    }
   ],
   "source": [
    "# Combine majority class with upsampled minority class\n",
    "df_balanced = pd.concat([df_majority, df_minority_upsampled])\n",
    "print(df_balanced['FraudIndicator'].value_counts())"
   ]
  },
  {
   "cell_type": "code",
   "execution_count": 126,
   "id": "0e529ef2-a99b-4aa6-b111-8800848bf689",
   "metadata": {},
   "outputs": [
    {
     "data": {
      "text/html": [
       "<div>\n",
       "<style scoped>\n",
       "    .dataframe tbody tr th:only-of-type {\n",
       "        vertical-align: middle;\n",
       "    }\n",
       "\n",
       "    .dataframe tbody tr th {\n",
       "        vertical-align: top;\n",
       "    }\n",
       "\n",
       "    .dataframe thead th {\n",
       "        text-align: right;\n",
       "    }\n",
       "</style>\n",
       "<table border=\"1\" class=\"dataframe\">\n",
       "  <thead>\n",
       "    <tr style=\"text-align: right;\">\n",
       "      <th></th>\n",
       "      <th>AccountBalance</th>\n",
       "      <th>LastLogin</th>\n",
       "      <th>SuspiciousFlag</th>\n",
       "      <th>TransactionAmount</th>\n",
       "      <th>Category</th>\n",
       "      <th>Timestamp</th>\n",
       "      <th>Amount</th>\n",
       "      <th>FraudIndicator</th>\n",
       "      <th>AnomalyScore</th>\n",
       "      <th>year_month</th>\n",
       "      <th>Hour</th>\n",
       "      <th>Time_diff</th>\n",
       "    </tr>\n",
       "  </thead>\n",
       "  <tbody>\n",
       "    <tr>\n",
       "      <th>0</th>\n",
       "      <td>9507.272060</td>\n",
       "      <td>2022-01-01</td>\n",
       "      <td>0</td>\n",
       "      <td>87.375444</td>\n",
       "      <td>Food</td>\n",
       "      <td>2022-02-02 18:00:00</td>\n",
       "      <td>33.670626</td>\n",
       "      <td>0</td>\n",
       "      <td>0.030921</td>\n",
       "      <td>2022-02</td>\n",
       "      <td>18</td>\n",
       "      <td>32</td>\n",
       "    </tr>\n",
       "    <tr>\n",
       "      <th>1</th>\n",
       "      <td>7268.827350</td>\n",
       "      <td>2023-03-17</td>\n",
       "      <td>0</td>\n",
       "      <td>71.337967</td>\n",
       "      <td>Food</td>\n",
       "      <td>2022-01-11 16:00:00</td>\n",
       "      <td>23.740319</td>\n",
       "      <td>0</td>\n",
       "      <td>0.555628</td>\n",
       "      <td>2022-01</td>\n",
       "      <td>16</td>\n",
       "      <td>-430</td>\n",
       "    </tr>\n",
       "    <tr>\n",
       "      <th>2</th>\n",
       "      <td>1715.321989</td>\n",
       "      <td>2022-01-03</td>\n",
       "      <td>0</td>\n",
       "      <td>46.044172</td>\n",
       "      <td>Travel</td>\n",
       "      <td>2022-01-27 16:00:00</td>\n",
       "      <td>30.980239</td>\n",
       "      <td>0</td>\n",
       "      <td>0.961552</td>\n",
       "      <td>2022-01</td>\n",
       "      <td>16</td>\n",
       "      <td>24</td>\n",
       "    </tr>\n",
       "    <tr>\n",
       "      <th>3</th>\n",
       "      <td>3101.509134</td>\n",
       "      <td>2022-01-04</td>\n",
       "      <td>0</td>\n",
       "      <td>85.085061</td>\n",
       "      <td>Other</td>\n",
       "      <td>2022-01-19 17:00:00</td>\n",
       "      <td>11.167088</td>\n",
       "      <td>0</td>\n",
       "      <td>0.525809</td>\n",
       "      <td>2022-01</td>\n",
       "      <td>17</td>\n",
       "      <td>15</td>\n",
       "    </tr>\n",
       "    <tr>\n",
       "      <th>4</th>\n",
       "      <td>6847.490921</td>\n",
       "      <td>2024-02-09</td>\n",
       "      <td>1</td>\n",
       "      <td>33.420638</td>\n",
       "      <td>Other</td>\n",
       "      <td>2022-01-26 12:00:00</td>\n",
       "      <td>16.182847</td>\n",
       "      <td>0</td>\n",
       "      <td>0.260799</td>\n",
       "      <td>2022-01</td>\n",
       "      <td>12</td>\n",
       "      <td>-744</td>\n",
       "    </tr>\n",
       "  </tbody>\n",
       "</table>\n",
       "</div>"
      ],
      "text/plain": [
       "   AccountBalance  LastLogin  SuspiciousFlag  TransactionAmount Category  \\\n",
       "0     9507.272060 2022-01-01               0          87.375444     Food   \n",
       "1     7268.827350 2023-03-17               0          71.337967     Food   \n",
       "2     1715.321989 2022-01-03               0          46.044172   Travel   \n",
       "3     3101.509134 2022-01-04               0          85.085061    Other   \n",
       "4     6847.490921 2024-02-09               1          33.420638    Other   \n",
       "\n",
       "            Timestamp     Amount  FraudIndicator  AnomalyScore year_month  \\\n",
       "0 2022-02-02 18:00:00  33.670626               0      0.030921    2022-02   \n",
       "1 2022-01-11 16:00:00  23.740319               0      0.555628    2022-01   \n",
       "2 2022-01-27 16:00:00  30.980239               0      0.961552    2022-01   \n",
       "3 2022-01-19 17:00:00  11.167088               0      0.525809    2022-01   \n",
       "4 2022-01-26 12:00:00  16.182847               0      0.260799    2022-01   \n",
       "\n",
       "   Hour  Time_diff  \n",
       "0    18         32  \n",
       "1    16       -430  \n",
       "2    16         24  \n",
       "3    17         15  \n",
       "4    12       -744  "
      ]
     },
     "execution_count": 126,
     "metadata": {},
     "output_type": "execute_result"
    }
   ],
   "source": [
    "df_balanced.head()"
   ]
  },
  {
   "cell_type": "code",
   "execution_count": 168,
   "id": "39fa8438-5d45-4def-b9cc-2ce2db47d79c",
   "metadata": {},
   "outputs": [],
   "source": [
    "Y_scaled= df_balanced['FraudIndicator']"
   ]
  },
  {
   "cell_type": "code",
   "execution_count": 169,
   "id": "67f17b3f-f6a0-40ad-ace7-ae1e251d7f71",
   "metadata": {},
   "outputs": [],
   "source": [
    "X_resampled=df_balanced.drop(columns=['LastLogin','Timestamp', 'FraudIndicator'], axis=1)"
   ]
  },
  {
   "cell_type": "code",
   "execution_count": 170,
   "id": "c16ca405-9280-4b0c-8b44-d5ed3d605b42",
   "metadata": {},
   "outputs": [],
   "source": [
    "X_resampled['Category']=Lable_encoder.fit_transform(X_resampled['Category'])"
   ]
  },
  {
   "cell_type": "code",
   "execution_count": 171,
   "id": "526c90dd-abed-46b9-8915-6955779026c9",
   "metadata": {},
   "outputs": [
    {
     "data": {
      "text/html": [
       "<div>\n",
       "<style scoped>\n",
       "    .dataframe tbody tr th:only-of-type {\n",
       "        vertical-align: middle;\n",
       "    }\n",
       "\n",
       "    .dataframe tbody tr th {\n",
       "        vertical-align: top;\n",
       "    }\n",
       "\n",
       "    .dataframe thead th {\n",
       "        text-align: right;\n",
       "    }\n",
       "</style>\n",
       "<table border=\"1\" class=\"dataframe\">\n",
       "  <thead>\n",
       "    <tr style=\"text-align: right;\">\n",
       "      <th></th>\n",
       "      <th>AccountBalance</th>\n",
       "      <th>SuspiciousFlag</th>\n",
       "      <th>TransactionAmount</th>\n",
       "      <th>Category</th>\n",
       "      <th>Amount</th>\n",
       "      <th>AnomalyScore</th>\n",
       "      <th>year_month</th>\n",
       "      <th>Hour</th>\n",
       "      <th>Time_diff</th>\n",
       "    </tr>\n",
       "  </thead>\n",
       "  <tbody>\n",
       "    <tr>\n",
       "      <th>0</th>\n",
       "      <td>9507.272060</td>\n",
       "      <td>0</td>\n",
       "      <td>87.375444</td>\n",
       "      <td>0</td>\n",
       "      <td>33.670626</td>\n",
       "      <td>0.030921</td>\n",
       "      <td>2022-02</td>\n",
       "      <td>18</td>\n",
       "      <td>32</td>\n",
       "    </tr>\n",
       "    <tr>\n",
       "      <th>1</th>\n",
       "      <td>7268.827350</td>\n",
       "      <td>0</td>\n",
       "      <td>71.337967</td>\n",
       "      <td>0</td>\n",
       "      <td>23.740319</td>\n",
       "      <td>0.555628</td>\n",
       "      <td>2022-01</td>\n",
       "      <td>16</td>\n",
       "      <td>-430</td>\n",
       "    </tr>\n",
       "    <tr>\n",
       "      <th>2</th>\n",
       "      <td>1715.321989</td>\n",
       "      <td>0</td>\n",
       "      <td>46.044172</td>\n",
       "      <td>4</td>\n",
       "      <td>30.980239</td>\n",
       "      <td>0.961552</td>\n",
       "      <td>2022-01</td>\n",
       "      <td>16</td>\n",
       "      <td>24</td>\n",
       "    </tr>\n",
       "    <tr>\n",
       "      <th>3</th>\n",
       "      <td>3101.509134</td>\n",
       "      <td>0</td>\n",
       "      <td>85.085061</td>\n",
       "      <td>2</td>\n",
       "      <td>11.167088</td>\n",
       "      <td>0.525809</td>\n",
       "      <td>2022-01</td>\n",
       "      <td>17</td>\n",
       "      <td>15</td>\n",
       "    </tr>\n",
       "    <tr>\n",
       "      <th>4</th>\n",
       "      <td>6847.490921</td>\n",
       "      <td>1</td>\n",
       "      <td>33.420638</td>\n",
       "      <td>2</td>\n",
       "      <td>16.182847</td>\n",
       "      <td>0.260799</td>\n",
       "      <td>2022-01</td>\n",
       "      <td>12</td>\n",
       "      <td>-744</td>\n",
       "    </tr>\n",
       "  </tbody>\n",
       "</table>\n",
       "</div>"
      ],
      "text/plain": [
       "   AccountBalance  SuspiciousFlag  TransactionAmount  Category     Amount  \\\n",
       "0     9507.272060               0          87.375444         0  33.670626   \n",
       "1     7268.827350               0          71.337967         0  23.740319   \n",
       "2     1715.321989               0          46.044172         4  30.980239   \n",
       "3     3101.509134               0          85.085061         2  11.167088   \n",
       "4     6847.490921               1          33.420638         2  16.182847   \n",
       "\n",
       "   AnomalyScore year_month  Hour  Time_diff  \n",
       "0      0.030921    2022-02    18         32  \n",
       "1      0.555628    2022-01    16       -430  \n",
       "2      0.961552    2022-01    16         24  \n",
       "3      0.525809    2022-01    17         15  \n",
       "4      0.260799    2022-01    12       -744  "
      ]
     },
     "execution_count": 171,
     "metadata": {},
     "output_type": "execute_result"
    }
   ],
   "source": [
    "X_resampled.head()"
   ]
  },
  {
   "cell_type": "code",
   "execution_count": 177,
   "id": "d26f9280-ed2d-4dfa-a675-a5f7438aa6a9",
   "metadata": {},
   "outputs": [],
   "source": [
    "X_resampled.drop(columns='year_month', inplace = True)"
   ]
  },
  {
   "cell_type": "code",
   "execution_count": 184,
   "id": "83465acc-c80d-486c-8f64-e377eae10ad6",
   "metadata": {},
   "outputs": [],
   "source": [
    "#  Instantiate the MinMaxScaler\n",
    "scaler = StandardScaler()\n",
    "\n",
    "#  Fit and Transform the Data\n",
    "scaled_data = scaler.fit_transform(X_resampled)\n",
    "\n",
    "\n",
    "# Convert the scaled data back to a DataFrame\n",
    "X_scaled = pd.DataFrame(scaled_data, columns=X_resampled.columns)\n"
   ]
  },
  {
   "cell_type": "code",
   "execution_count": 185,
   "id": "ff2166e3-44f8-4860-adad-34925a4eecaf",
   "metadata": {},
   "outputs": [
    {
     "data": {
      "text/html": [
       "<div>\n",
       "<style scoped>\n",
       "    .dataframe tbody tr th:only-of-type {\n",
       "        vertical-align: middle;\n",
       "    }\n",
       "\n",
       "    .dataframe tbody tr th {\n",
       "        vertical-align: top;\n",
       "    }\n",
       "\n",
       "    .dataframe thead th {\n",
       "        text-align: right;\n",
       "    }\n",
       "</style>\n",
       "<table border=\"1\" class=\"dataframe\">\n",
       "  <thead>\n",
       "    <tr style=\"text-align: right;\">\n",
       "      <th></th>\n",
       "      <th>AccountBalance</th>\n",
       "      <th>SuspiciousFlag</th>\n",
       "      <th>TransactionAmount</th>\n",
       "      <th>Category</th>\n",
       "      <th>Amount</th>\n",
       "      <th>AnomalyScore</th>\n",
       "      <th>Hour</th>\n",
       "      <th>Time_diff</th>\n",
       "    </tr>\n",
       "  </thead>\n",
       "  <tbody>\n",
       "    <tr>\n",
       "      <th>0</th>\n",
       "      <td>1.527930</td>\n",
       "      <td>-0.209083</td>\n",
       "      <td>1.320795</td>\n",
       "      <td>-1.394986</td>\n",
       "      <td>-0.877231</td>\n",
       "      <td>-1.457401</td>\n",
       "      <td>0.874582</td>\n",
       "      <td>1.928957</td>\n",
       "    </tr>\n",
       "    <tr>\n",
       "      <th>1</th>\n",
       "      <td>0.637114</td>\n",
       "      <td>-0.209083</td>\n",
       "      <td>0.691254</td>\n",
       "      <td>-1.394986</td>\n",
       "      <td>-1.261844</td>\n",
       "      <td>0.301225</td>\n",
       "      <td>0.599679</td>\n",
       "      <td>0.299132</td>\n",
       "    </tr>\n",
       "    <tr>\n",
       "      <th>2</th>\n",
       "      <td>-1.572970</td>\n",
       "      <td>-0.209083</td>\n",
       "      <td>-0.301637</td>\n",
       "      <td>1.480809</td>\n",
       "      <td>-0.981433</td>\n",
       "      <td>1.661734</td>\n",
       "      <td>0.599679</td>\n",
       "      <td>1.900735</td>\n",
       "    </tr>\n",
       "    <tr>\n",
       "      <th>3</th>\n",
       "      <td>-1.021320</td>\n",
       "      <td>-0.209083</td>\n",
       "      <td>1.230887</td>\n",
       "      <td>0.042911</td>\n",
       "      <td>-1.748821</td>\n",
       "      <td>0.201284</td>\n",
       "      <td>0.737131</td>\n",
       "      <td>1.868985</td>\n",
       "    </tr>\n",
       "    <tr>\n",
       "      <th>4</th>\n",
       "      <td>0.469438</td>\n",
       "      <td>4.782782</td>\n",
       "      <td>-0.797165</td>\n",
       "      <td>0.042911</td>\n",
       "      <td>-1.554554</td>\n",
       "      <td>-0.686935</td>\n",
       "      <td>0.049871</td>\n",
       "      <td>-0.808585</td>\n",
       "    </tr>\n",
       "  </tbody>\n",
       "</table>\n",
       "</div>"
      ],
      "text/plain": [
       "   AccountBalance  SuspiciousFlag  TransactionAmount  Category    Amount  \\\n",
       "0        1.527930       -0.209083           1.320795 -1.394986 -0.877231   \n",
       "1        0.637114       -0.209083           0.691254 -1.394986 -1.261844   \n",
       "2       -1.572970       -0.209083          -0.301637  1.480809 -0.981433   \n",
       "3       -1.021320       -0.209083           1.230887  0.042911 -1.748821   \n",
       "4        0.469438        4.782782          -0.797165  0.042911 -1.554554   \n",
       "\n",
       "   AnomalyScore      Hour  Time_diff  \n",
       "0     -1.457401  0.874582   1.928957  \n",
       "1      0.301225  0.599679   0.299132  \n",
       "2      1.661734  0.599679   1.900735  \n",
       "3      0.201284  0.737131   1.868985  \n",
       "4     -0.686935  0.049871  -0.808585  "
      ]
     },
     "execution_count": 185,
     "metadata": {},
     "output_type": "execute_result"
    }
   ],
   "source": [
    "X_scaled.head()"
   ]
  },
  {
   "cell_type": "code",
   "execution_count": 186,
   "id": "003f12c6-28d4-40f8-bd4a-a8d4a2356c67",
   "metadata": {},
   "outputs": [
    {
     "data": {
      "text/html": [
       "<div>\n",
       "<style scoped>\n",
       "    .dataframe tbody tr th:only-of-type {\n",
       "        vertical-align: middle;\n",
       "    }\n",
       "\n",
       "    .dataframe tbody tr th {\n",
       "        vertical-align: top;\n",
       "    }\n",
       "\n",
       "    .dataframe thead th {\n",
       "        text-align: right;\n",
       "    }\n",
       "</style>\n",
       "<table border=\"1\" class=\"dataframe\">\n",
       "  <thead>\n",
       "    <tr style=\"text-align: right;\">\n",
       "      <th></th>\n",
       "      <th>AccountBalance</th>\n",
       "      <th>SuspiciousFlag</th>\n",
       "      <th>TransactionAmount</th>\n",
       "      <th>Category</th>\n",
       "      <th>Amount</th>\n",
       "      <th>AnomalyScore</th>\n",
       "      <th>Hour</th>\n",
       "      <th>Time_diff</th>\n",
       "    </tr>\n",
       "  </thead>\n",
       "  <tbody>\n",
       "    <tr>\n",
       "      <th>0</th>\n",
       "      <td>1.527930</td>\n",
       "      <td>-0.209083</td>\n",
       "      <td>1.320795</td>\n",
       "      <td>-1.394986</td>\n",
       "      <td>-0.877231</td>\n",
       "      <td>-1.457401</td>\n",
       "      <td>0.874582</td>\n",
       "      <td>1.928957</td>\n",
       "    </tr>\n",
       "    <tr>\n",
       "      <th>1</th>\n",
       "      <td>0.637114</td>\n",
       "      <td>-0.209083</td>\n",
       "      <td>0.691254</td>\n",
       "      <td>-1.394986</td>\n",
       "      <td>-1.261844</td>\n",
       "      <td>0.301225</td>\n",
       "      <td>0.599679</td>\n",
       "      <td>0.299132</td>\n",
       "    </tr>\n",
       "    <tr>\n",
       "      <th>2</th>\n",
       "      <td>-1.572970</td>\n",
       "      <td>-0.209083</td>\n",
       "      <td>-0.301637</td>\n",
       "      <td>1.480809</td>\n",
       "      <td>-0.981433</td>\n",
       "      <td>1.661734</td>\n",
       "      <td>0.599679</td>\n",
       "      <td>1.900735</td>\n",
       "    </tr>\n",
       "    <tr>\n",
       "      <th>3</th>\n",
       "      <td>-1.021320</td>\n",
       "      <td>-0.209083</td>\n",
       "      <td>1.230887</td>\n",
       "      <td>0.042911</td>\n",
       "      <td>-1.748821</td>\n",
       "      <td>0.201284</td>\n",
       "      <td>0.737131</td>\n",
       "      <td>1.868985</td>\n",
       "    </tr>\n",
       "    <tr>\n",
       "      <th>4</th>\n",
       "      <td>0.469438</td>\n",
       "      <td>4.782782</td>\n",
       "      <td>-0.797165</td>\n",
       "      <td>0.042911</td>\n",
       "      <td>-1.554554</td>\n",
       "      <td>-0.686935</td>\n",
       "      <td>0.049871</td>\n",
       "      <td>-0.808585</td>\n",
       "    </tr>\n",
       "  </tbody>\n",
       "</table>\n",
       "</div>"
      ],
      "text/plain": [
       "   AccountBalance  SuspiciousFlag  TransactionAmount  Category    Amount  \\\n",
       "0        1.527930       -0.209083           1.320795 -1.394986 -0.877231   \n",
       "1        0.637114       -0.209083           0.691254 -1.394986 -1.261844   \n",
       "2       -1.572970       -0.209083          -0.301637  1.480809 -0.981433   \n",
       "3       -1.021320       -0.209083           1.230887  0.042911 -1.748821   \n",
       "4        0.469438        4.782782          -0.797165  0.042911 -1.554554   \n",
       "\n",
       "   AnomalyScore      Hour  Time_diff  \n",
       "0     -1.457401  0.874582   1.928957  \n",
       "1      0.301225  0.599679   0.299132  \n",
       "2      1.661734  0.599679   1.900735  \n",
       "3      0.201284  0.737131   1.868985  \n",
       "4     -0.686935  0.049871  -0.808585  "
      ]
     },
     "execution_count": 186,
     "metadata": {},
     "output_type": "execute_result"
    }
   ],
   "source": [
    "X_scaled.head()"
   ]
  },
  {
   "cell_type": "code",
   "execution_count": 187,
   "id": "369f5c01-1684-44e6-8e70-d01580708c48",
   "metadata": {},
   "outputs": [],
   "source": [
    "# Step 5: Split the Data\n",
    "X_train, X_test, y_train, y_test = train_test_split(X_scaled, Y_scaled, test_size=0.2, random_state=42)"
   ]
  },
  {
   "cell_type": "code",
   "execution_count": 188,
   "id": "3ceb86d6-5d00-4621-bc86-2003ab80926f",
   "metadata": {},
   "outputs": [],
   "source": [
    "#  Create the Model\n",
    "model = LogisticRegression(solver='liblinear')"
   ]
  },
  {
   "cell_type": "code",
   "execution_count": 189,
   "id": "da880ff7-8b78-45c3-8243-f230566a213b",
   "metadata": {},
   "outputs": [
    {
     "data": {
      "text/html": [
       "<style>#sk-container-id-1 {color: black;background-color: white;}#sk-container-id-1 pre{padding: 0;}#sk-container-id-1 div.sk-toggleable {background-color: white;}#sk-container-id-1 label.sk-toggleable__label {cursor: pointer;display: block;width: 100%;margin-bottom: 0;padding: 0.3em;box-sizing: border-box;text-align: center;}#sk-container-id-1 label.sk-toggleable__label-arrow:before {content: \"▸\";float: left;margin-right: 0.25em;color: #696969;}#sk-container-id-1 label.sk-toggleable__label-arrow:hover:before {color: black;}#sk-container-id-1 div.sk-estimator:hover label.sk-toggleable__label-arrow:before {color: black;}#sk-container-id-1 div.sk-toggleable__content {max-height: 0;max-width: 0;overflow: hidden;text-align: left;background-color: #f0f8ff;}#sk-container-id-1 div.sk-toggleable__content pre {margin: 0.2em;color: black;border-radius: 0.25em;background-color: #f0f8ff;}#sk-container-id-1 input.sk-toggleable__control:checked~div.sk-toggleable__content {max-height: 200px;max-width: 100%;overflow: auto;}#sk-container-id-1 input.sk-toggleable__control:checked~label.sk-toggleable__label-arrow:before {content: \"▾\";}#sk-container-id-1 div.sk-estimator input.sk-toggleable__control:checked~label.sk-toggleable__label {background-color: #d4ebff;}#sk-container-id-1 div.sk-label input.sk-toggleable__control:checked~label.sk-toggleable__label {background-color: #d4ebff;}#sk-container-id-1 input.sk-hidden--visually {border: 0;clip: rect(1px 1px 1px 1px);clip: rect(1px, 1px, 1px, 1px);height: 1px;margin: -1px;overflow: hidden;padding: 0;position: absolute;width: 1px;}#sk-container-id-1 div.sk-estimator {font-family: monospace;background-color: #f0f8ff;border: 1px dotted black;border-radius: 0.25em;box-sizing: border-box;margin-bottom: 0.5em;}#sk-container-id-1 div.sk-estimator:hover {background-color: #d4ebff;}#sk-container-id-1 div.sk-parallel-item::after {content: \"\";width: 100%;border-bottom: 1px solid gray;flex-grow: 1;}#sk-container-id-1 div.sk-label:hover label.sk-toggleable__label {background-color: #d4ebff;}#sk-container-id-1 div.sk-serial::before {content: \"\";position: absolute;border-left: 1px solid gray;box-sizing: border-box;top: 0;bottom: 0;left: 50%;z-index: 0;}#sk-container-id-1 div.sk-serial {display: flex;flex-direction: column;align-items: center;background-color: white;padding-right: 0.2em;padding-left: 0.2em;position: relative;}#sk-container-id-1 div.sk-item {position: relative;z-index: 1;}#sk-container-id-1 div.sk-parallel {display: flex;align-items: stretch;justify-content: center;background-color: white;position: relative;}#sk-container-id-1 div.sk-item::before, #sk-container-id-1 div.sk-parallel-item::before {content: \"\";position: absolute;border-left: 1px solid gray;box-sizing: border-box;top: 0;bottom: 0;left: 50%;z-index: -1;}#sk-container-id-1 div.sk-parallel-item {display: flex;flex-direction: column;z-index: 1;position: relative;background-color: white;}#sk-container-id-1 div.sk-parallel-item:first-child::after {align-self: flex-end;width: 50%;}#sk-container-id-1 div.sk-parallel-item:last-child::after {align-self: flex-start;width: 50%;}#sk-container-id-1 div.sk-parallel-item:only-child::after {width: 0;}#sk-container-id-1 div.sk-dashed-wrapped {border: 1px dashed gray;margin: 0 0.4em 0.5em 0.4em;box-sizing: border-box;padding-bottom: 0.4em;background-color: white;}#sk-container-id-1 div.sk-label label {font-family: monospace;font-weight: bold;display: inline-block;line-height: 1.2em;}#sk-container-id-1 div.sk-label-container {text-align: center;}#sk-container-id-1 div.sk-container {/* jupyter's `normalize.less` sets `[hidden] { display: none; }` but bootstrap.min.css set `[hidden] { display: none !important; }` so we also need the `!important` here to be able to override the default hidden behavior on the sphinx rendered scikit-learn.org. See: https://github.com/scikit-learn/scikit-learn/issues/21755 */display: inline-block !important;position: relative;}#sk-container-id-1 div.sk-text-repr-fallback {display: none;}</style><div id=\"sk-container-id-1\" class=\"sk-top-container\"><div class=\"sk-text-repr-fallback\"><pre>LogisticRegression(solver=&#x27;liblinear&#x27;)</pre><b>In a Jupyter environment, please rerun this cell to show the HTML representation or trust the notebook. <br />On GitHub, the HTML representation is unable to render, please try loading this page with nbviewer.org.</b></div><div class=\"sk-container\" hidden><div class=\"sk-item\"><div class=\"sk-estimator sk-toggleable\"><input class=\"sk-toggleable__control sk-hidden--visually\" id=\"sk-estimator-id-1\" type=\"checkbox\" checked><label for=\"sk-estimator-id-1\" class=\"sk-toggleable__label sk-toggleable__label-arrow\">LogisticRegression</label><div class=\"sk-toggleable__content\"><pre>LogisticRegression(solver=&#x27;liblinear&#x27;)</pre></div></div></div></div></div>"
      ],
      "text/plain": [
       "LogisticRegression(solver='liblinear')"
      ]
     },
     "execution_count": 189,
     "metadata": {},
     "output_type": "execute_result"
    }
   ],
   "source": [
    "#  Train the Model\n",
    "model.fit(X_train, y_train)"
   ]
  },
  {
   "cell_type": "code",
   "execution_count": 190,
   "id": "657303bb-5aad-4935-95a7-d3a13ff82b89",
   "metadata": {},
   "outputs": [],
   "source": [
    "#  Make Predictions\n",
    "y_pred = model.predict(X_test)"
   ]
  },
  {
   "cell_type": "code",
   "execution_count": 191,
   "id": "2407e739-4bf6-42e7-adcc-102212375dee",
   "metadata": {},
   "outputs": [
    {
     "name": "stdout",
     "output_type": "stream",
     "text": [
      "Confusion Matrix:\n",
      "[[112  83]\n",
      " [ 66 121]]\n",
      "\n",
      "Classification Report:\n",
      "              precision    recall  f1-score   support\n",
      "\n",
      "           0       0.63      0.57      0.60       195\n",
      "           1       0.59      0.65      0.62       187\n",
      "\n",
      "    accuracy                           0.61       382\n",
      "   macro avg       0.61      0.61      0.61       382\n",
      "weighted avg       0.61      0.61      0.61       382\n",
      "\n",
      "Accuracy Score: 0.6099476439790575\n"
     ]
    }
   ],
   "source": [
    " #evaluate the Model\n",
    "print(\"Confusion Matrix:\")\n",
    "print(confusion_matrix(y_test, y_pred))\n",
    "print(\"\\nClassification Report:\")\n",
    "print(classification_report(y_test, y_pred))\n",
    "print(\"Accuracy Score:\", accuracy_score(y_test, y_pred))"
   ]
  },
  {
   "cell_type": "code",
   "execution_count": 192,
   "id": "203e1e14-390e-431f-bf9d-653942d5c3c5",
   "metadata": {},
   "outputs": [],
   "source": [
    "# the hyperparameter grid\n",
    "param_grid = {\n",
    "    'C': [0.001, 0.01, 0.1, 1, 10, 100],  # Inverse of regularization strength\n",
    "    'penalty': ['l1', 'l2'],  # Regularization type\n",
    "    'max_iter': [100, 200, 300]  # Number of iterations\n",
    "}"
   ]
  },
  {
   "cell_type": "code",
   "execution_count": 193,
   "id": "93cb4ecc-2ab8-44c7-bacd-9060d0452fe4",
   "metadata": {},
   "outputs": [],
   "source": [
    "grid_search = GridSearchCV(estimator=model, param_grid=param_grid, cv=5, scoring='accuracy', n_jobs=-1)\n"
   ]
  },
  {
   "cell_type": "code",
   "execution_count": 194,
   "id": "c5c8a383-f97d-4fa7-acf7-784ce43006f4",
   "metadata": {},
   "outputs": [
    {
     "data": {
      "text/html": [
       "<style>#sk-container-id-2 {color: black;background-color: white;}#sk-container-id-2 pre{padding: 0;}#sk-container-id-2 div.sk-toggleable {background-color: white;}#sk-container-id-2 label.sk-toggleable__label {cursor: pointer;display: block;width: 100%;margin-bottom: 0;padding: 0.3em;box-sizing: border-box;text-align: center;}#sk-container-id-2 label.sk-toggleable__label-arrow:before {content: \"▸\";float: left;margin-right: 0.25em;color: #696969;}#sk-container-id-2 label.sk-toggleable__label-arrow:hover:before {color: black;}#sk-container-id-2 div.sk-estimator:hover label.sk-toggleable__label-arrow:before {color: black;}#sk-container-id-2 div.sk-toggleable__content {max-height: 0;max-width: 0;overflow: hidden;text-align: left;background-color: #f0f8ff;}#sk-container-id-2 div.sk-toggleable__content pre {margin: 0.2em;color: black;border-radius: 0.25em;background-color: #f0f8ff;}#sk-container-id-2 input.sk-toggleable__control:checked~div.sk-toggleable__content {max-height: 200px;max-width: 100%;overflow: auto;}#sk-container-id-2 input.sk-toggleable__control:checked~label.sk-toggleable__label-arrow:before {content: \"▾\";}#sk-container-id-2 div.sk-estimator input.sk-toggleable__control:checked~label.sk-toggleable__label {background-color: #d4ebff;}#sk-container-id-2 div.sk-label input.sk-toggleable__control:checked~label.sk-toggleable__label {background-color: #d4ebff;}#sk-container-id-2 input.sk-hidden--visually {border: 0;clip: rect(1px 1px 1px 1px);clip: rect(1px, 1px, 1px, 1px);height: 1px;margin: -1px;overflow: hidden;padding: 0;position: absolute;width: 1px;}#sk-container-id-2 div.sk-estimator {font-family: monospace;background-color: #f0f8ff;border: 1px dotted black;border-radius: 0.25em;box-sizing: border-box;margin-bottom: 0.5em;}#sk-container-id-2 div.sk-estimator:hover {background-color: #d4ebff;}#sk-container-id-2 div.sk-parallel-item::after {content: \"\";width: 100%;border-bottom: 1px solid gray;flex-grow: 1;}#sk-container-id-2 div.sk-label:hover label.sk-toggleable__label {background-color: #d4ebff;}#sk-container-id-2 div.sk-serial::before {content: \"\";position: absolute;border-left: 1px solid gray;box-sizing: border-box;top: 0;bottom: 0;left: 50%;z-index: 0;}#sk-container-id-2 div.sk-serial {display: flex;flex-direction: column;align-items: center;background-color: white;padding-right: 0.2em;padding-left: 0.2em;position: relative;}#sk-container-id-2 div.sk-item {position: relative;z-index: 1;}#sk-container-id-2 div.sk-parallel {display: flex;align-items: stretch;justify-content: center;background-color: white;position: relative;}#sk-container-id-2 div.sk-item::before, #sk-container-id-2 div.sk-parallel-item::before {content: \"\";position: absolute;border-left: 1px solid gray;box-sizing: border-box;top: 0;bottom: 0;left: 50%;z-index: -1;}#sk-container-id-2 div.sk-parallel-item {display: flex;flex-direction: column;z-index: 1;position: relative;background-color: white;}#sk-container-id-2 div.sk-parallel-item:first-child::after {align-self: flex-end;width: 50%;}#sk-container-id-2 div.sk-parallel-item:last-child::after {align-self: flex-start;width: 50%;}#sk-container-id-2 div.sk-parallel-item:only-child::after {width: 0;}#sk-container-id-2 div.sk-dashed-wrapped {border: 1px dashed gray;margin: 0 0.4em 0.5em 0.4em;box-sizing: border-box;padding-bottom: 0.4em;background-color: white;}#sk-container-id-2 div.sk-label label {font-family: monospace;font-weight: bold;display: inline-block;line-height: 1.2em;}#sk-container-id-2 div.sk-label-container {text-align: center;}#sk-container-id-2 div.sk-container {/* jupyter's `normalize.less` sets `[hidden] { display: none; }` but bootstrap.min.css set `[hidden] { display: none !important; }` so we also need the `!important` here to be able to override the default hidden behavior on the sphinx rendered scikit-learn.org. See: https://github.com/scikit-learn/scikit-learn/issues/21755 */display: inline-block !important;position: relative;}#sk-container-id-2 div.sk-text-repr-fallback {display: none;}</style><div id=\"sk-container-id-2\" class=\"sk-top-container\"><div class=\"sk-text-repr-fallback\"><pre>GridSearchCV(cv=5, estimator=LogisticRegression(solver=&#x27;liblinear&#x27;), n_jobs=-1,\n",
       "             param_grid={&#x27;C&#x27;: [0.001, 0.01, 0.1, 1, 10, 100],\n",
       "                         &#x27;max_iter&#x27;: [100, 200, 300], &#x27;penalty&#x27;: [&#x27;l1&#x27;, &#x27;l2&#x27;]},\n",
       "             scoring=&#x27;accuracy&#x27;)</pre><b>In a Jupyter environment, please rerun this cell to show the HTML representation or trust the notebook. <br />On GitHub, the HTML representation is unable to render, please try loading this page with nbviewer.org.</b></div><div class=\"sk-container\" hidden><div class=\"sk-item sk-dashed-wrapped\"><div class=\"sk-label-container\"><div class=\"sk-label sk-toggleable\"><input class=\"sk-toggleable__control sk-hidden--visually\" id=\"sk-estimator-id-2\" type=\"checkbox\" ><label for=\"sk-estimator-id-2\" class=\"sk-toggleable__label sk-toggleable__label-arrow\">GridSearchCV</label><div class=\"sk-toggleable__content\"><pre>GridSearchCV(cv=5, estimator=LogisticRegression(solver=&#x27;liblinear&#x27;), n_jobs=-1,\n",
       "             param_grid={&#x27;C&#x27;: [0.001, 0.01, 0.1, 1, 10, 100],\n",
       "                         &#x27;max_iter&#x27;: [100, 200, 300], &#x27;penalty&#x27;: [&#x27;l1&#x27;, &#x27;l2&#x27;]},\n",
       "             scoring=&#x27;accuracy&#x27;)</pre></div></div></div><div class=\"sk-parallel\"><div class=\"sk-parallel-item\"><div class=\"sk-item\"><div class=\"sk-label-container\"><div class=\"sk-label sk-toggleable\"><input class=\"sk-toggleable__control sk-hidden--visually\" id=\"sk-estimator-id-3\" type=\"checkbox\" ><label for=\"sk-estimator-id-3\" class=\"sk-toggleable__label sk-toggleable__label-arrow\">estimator: LogisticRegression</label><div class=\"sk-toggleable__content\"><pre>LogisticRegression(solver=&#x27;liblinear&#x27;)</pre></div></div></div><div class=\"sk-serial\"><div class=\"sk-item\"><div class=\"sk-estimator sk-toggleable\"><input class=\"sk-toggleable__control sk-hidden--visually\" id=\"sk-estimator-id-4\" type=\"checkbox\" ><label for=\"sk-estimator-id-4\" class=\"sk-toggleable__label sk-toggleable__label-arrow\">LogisticRegression</label><div class=\"sk-toggleable__content\"><pre>LogisticRegression(solver=&#x27;liblinear&#x27;)</pre></div></div></div></div></div></div></div></div></div></div>"
      ],
      "text/plain": [
       "GridSearchCV(cv=5, estimator=LogisticRegression(solver='liblinear'), n_jobs=-1,\n",
       "             param_grid={'C': [0.001, 0.01, 0.1, 1, 10, 100],\n",
       "                         'max_iter': [100, 200, 300], 'penalty': ['l1', 'l2']},\n",
       "             scoring='accuracy')"
      ]
     },
     "execution_count": 194,
     "metadata": {},
     "output_type": "execute_result"
    }
   ],
   "source": [
    "# Fit the model\n",
    "grid_search.fit(X_train, y_train)"
   ]
  },
  {
   "cell_type": "code",
   "execution_count": 195,
   "id": "fbd11e94-0f19-4c31-8fa3-307a67186ef4",
   "metadata": {},
   "outputs": [],
   "source": [
    "#  Evaluate the best model\n",
    "best_model = grid_search.best_estimator_\n",
    "y_pred = best_model.predict(X_test)"
   ]
  },
  {
   "cell_type": "code",
   "execution_count": 196,
   "id": "026a2b34-9498-48ac-b494-b7349a0cea90",
   "metadata": {},
   "outputs": [
    {
     "name": "stdout",
     "output_type": "stream",
     "text": [
      "Best Hyperparameters:\n",
      "{'C': 0.01, 'max_iter': 100, 'penalty': 'l2'}\n",
      "\n",
      "Classification Report:\n",
      "              precision    recall  f1-score   support\n",
      "\n",
      "           0       0.63      0.57      0.60       195\n",
      "           1       0.59      0.65      0.62       187\n",
      "\n",
      "    accuracy                           0.61       382\n",
      "   macro avg       0.61      0.61      0.61       382\n",
      "weighted avg       0.61      0.61      0.61       382\n",
      "\n",
      "Accuracy Score: 0.6073298429319371\n"
     ]
    }
   ],
   "source": [
    "print(\"Best Hyperparameters:\")\n",
    "print(grid_search.best_params_)\n",
    "print(\"\\nClassification Report:\")\n",
    "print(classification_report(y_test, y_pred))\n",
    "print(\"Accuracy Score:\", accuracy_score(y_test, y_pred))"
   ]
  },
  {
   "cell_type": "code",
   "execution_count": null,
   "id": "cafccd29-6f58-46bb-b363-eef14fe24135",
   "metadata": {},
   "outputs": [],
   "source": []
  },
  {
   "cell_type": "code",
   "execution_count": 202,
   "id": "e0aacbe4-ce2f-4f0f-b242-0d055a29da38",
   "metadata": {},
   "outputs": [],
   "source": [
    "def evaluate_classification_models(X_resampled, y_resampled):\n",
    "    # Split the resampled data into training and testing sets\n",
    "    X_train, X_test, y_train, y_test = train_test_split(X_resampled, y_resampled, test_size=0.2, random_state=42)\n",
    "    \n",
    "    # Define a dictionary of classification models\n",
    "    models = {\n",
    "        \"Logistic Regression Classifier\": LogisticRegression(),\n",
    "        \"Naive Bayes\": GaussianNB(),\n",
    "        \"Decision Tree Classifier\": DecisionTreeClassifier(),\n",
    "        \"Random Forest Classifier\": RandomForestClassifier(),\n",
    "        \"XGB Boost\": xgb.XGBClassifier(),\n",
    "        \"Support Vector Machine (SVM)\": SVC(),\n",
    "        \"K-Nearest Neighbors (KNN)\": KNeighborsClassifier(),\n",
    "        \"Gradient Boosting Classifier\": GradientBoostingClassifier()\n",
    "        \n",
    "          }\n",
    "    \n",
    "    results = {}\n",
    "    \n",
    "    for model_name, model in models.items():\n",
    "        # Train the model\n",
    "        model.fit(X_train, y_train)\n",
    "        \n",
    "        # Make predictions\n",
    "        y_pred = model.predict(X_test)\n",
    "        \n",
    "        # Calculate and store various metrics\n",
    "        accuracy = accuracy_score(y_test, y_pred)\n",
    "        precision = precision_score(y_test, y_pred)\n",
    "        recall = recall_score(y_test, y_pred)\n",
    "        f1 = f1_score(y_test, y_pred)\n",
    "        confusion = confusion_matrix(y_test, y_pred)\n",
    "        \n",
    "        results[model_name] = {\n",
    "            \"Accuracy\": accuracy,\n",
    "            \"Precision\": precision,\n",
    "            \"Recall\": recall,\n",
    "            \"F1 Score\": f1,\n",
    "            \"Confusion Matrix\": confusion\n",
    "        }\n",
    "    \n",
    "    return results"
   ]
  },
  {
   "cell_type": "code",
   "execution_count": 203,
   "id": "63dd43b2-66f3-461b-85fa-91de5e84da83",
   "metadata": {},
   "outputs": [
    {
     "name": "stdout",
     "output_type": "stream",
     "text": [
      "Results for Logistic Regression Classifier:\n",
      "Accuracy: 0.6099476439790575\n",
      "Precision: 0.5931372549019608\n",
      "Recall: 0.6470588235294118\n",
      "F1 Score: 0.618925831202046\n",
      "Confusion Matrix: [[112  83]\n",
      " [ 66 121]]\n",
      "\n",
      "Results for Naive Bayes:\n",
      "Accuracy: 0.5575916230366492\n",
      "Precision: 0.6153846153846154\n",
      "Recall: 0.25668449197860965\n",
      "F1 Score: 0.36226415094339626\n",
      "Confusion Matrix: [[165  30]\n",
      " [139  48]]\n",
      "\n",
      "Results for Decision Tree Classifier:\n",
      "Accuracy: 0.981675392670157\n",
      "Precision: 0.9639175257731959\n",
      "Recall: 1.0\n",
      "F1 Score: 0.9816272965879265\n",
      "Confusion Matrix: [[188   7]\n",
      " [  0 187]]\n",
      "\n",
      "Results for Random Forest Classifier:\n",
      "Accuracy: 0.9973821989528796\n",
      "Precision: 0.9946808510638298\n",
      "Recall: 1.0\n",
      "F1 Score: 0.9973333333333333\n",
      "Confusion Matrix: [[194   1]\n",
      " [  0 187]]\n",
      "\n",
      "Results for XGB Boost:\n",
      "Accuracy: 0.9842931937172775\n",
      "Precision: 0.9689119170984456\n",
      "Recall: 1.0\n",
      "F1 Score: 0.9842105263157895\n",
      "Confusion Matrix: [[189   6]\n",
      " [  0 187]]\n",
      "\n",
      "Results for Support Vector Machine (SVM):\n",
      "Accuracy: 0.8638743455497382\n",
      "Precision: 0.8\n",
      "Recall: 0.9625668449197861\n",
      "F1 Score: 0.8737864077669902\n",
      "Confusion Matrix: [[150  45]\n",
      " [  7 180]]\n",
      "\n",
      "Results for K-Nearest Neighbors (KNN):\n",
      "Accuracy: 0.9345549738219895\n",
      "Precision: 0.8820754716981132\n",
      "Recall: 1.0\n",
      "F1 Score: 0.9373433583959899\n",
      "Confusion Matrix: [[170  25]\n",
      " [  0 187]]\n",
      "\n",
      "Results for Gradient Boosting Classifier:\n",
      "Accuracy: 0.9581151832460733\n",
      "Precision: 0.9211822660098522\n",
      "Recall: 1.0\n",
      "F1 Score: 0.9589743589743589\n",
      "Confusion Matrix: [[179  16]\n",
      " [  0 187]]\n",
      "\n"
     ]
    }
   ],
   "source": [
    "results = evaluate_classification_models(X_scaled, Y_scaled)\n",
    "for model_name, model_result in results.items():\n",
    "     print(f\"Results for {model_name}:\")\n",
    "     for metric, value in model_result.items():\n",
    "         print(f\"{metric}: {value}\")\n",
    "     print()"
   ]
  },
  {
   "cell_type": "code",
   "execution_count": 223,
   "id": "3e912f01-c222-4f88-af94-3f5266ad2e00",
   "metadata": {},
   "outputs": [],
   "source": [
    "# Initialize the Isolation Forest model\n",
    "model = IsolationForest(contamination=0.05, random_state=42)"
   ]
  },
  {
   "cell_type": "code",
   "execution_count": 224,
   "id": "9f8ddf08-ef90-43d4-b5e0-b595c08f201e",
   "metadata": {},
   "outputs": [
    {
     "name": "stderr",
     "output_type": "stream",
     "text": [
      "C:\\Users\\vincent.chaparadza\\AppData\\Local\\anaconda3\\Lib\\site-packages\\sklearn\\base.py:439: UserWarning: X does not have valid feature names, but IsolationForest was fitted with feature names\n",
      "  warnings.warn(\n"
     ]
    },
    {
     "data": {
      "text/html": [
       "<style>#sk-container-id-7 {color: black;background-color: white;}#sk-container-id-7 pre{padding: 0;}#sk-container-id-7 div.sk-toggleable {background-color: white;}#sk-container-id-7 label.sk-toggleable__label {cursor: pointer;display: block;width: 100%;margin-bottom: 0;padding: 0.3em;box-sizing: border-box;text-align: center;}#sk-container-id-7 label.sk-toggleable__label-arrow:before {content: \"▸\";float: left;margin-right: 0.25em;color: #696969;}#sk-container-id-7 label.sk-toggleable__label-arrow:hover:before {color: black;}#sk-container-id-7 div.sk-estimator:hover label.sk-toggleable__label-arrow:before {color: black;}#sk-container-id-7 div.sk-toggleable__content {max-height: 0;max-width: 0;overflow: hidden;text-align: left;background-color: #f0f8ff;}#sk-container-id-7 div.sk-toggleable__content pre {margin: 0.2em;color: black;border-radius: 0.25em;background-color: #f0f8ff;}#sk-container-id-7 input.sk-toggleable__control:checked~div.sk-toggleable__content {max-height: 200px;max-width: 100%;overflow: auto;}#sk-container-id-7 input.sk-toggleable__control:checked~label.sk-toggleable__label-arrow:before {content: \"▾\";}#sk-container-id-7 div.sk-estimator input.sk-toggleable__control:checked~label.sk-toggleable__label {background-color: #d4ebff;}#sk-container-id-7 div.sk-label input.sk-toggleable__control:checked~label.sk-toggleable__label {background-color: #d4ebff;}#sk-container-id-7 input.sk-hidden--visually {border: 0;clip: rect(1px 1px 1px 1px);clip: rect(1px, 1px, 1px, 1px);height: 1px;margin: -1px;overflow: hidden;padding: 0;position: absolute;width: 1px;}#sk-container-id-7 div.sk-estimator {font-family: monospace;background-color: #f0f8ff;border: 1px dotted black;border-radius: 0.25em;box-sizing: border-box;margin-bottom: 0.5em;}#sk-container-id-7 div.sk-estimator:hover {background-color: #d4ebff;}#sk-container-id-7 div.sk-parallel-item::after {content: \"\";width: 100%;border-bottom: 1px solid gray;flex-grow: 1;}#sk-container-id-7 div.sk-label:hover label.sk-toggleable__label {background-color: #d4ebff;}#sk-container-id-7 div.sk-serial::before {content: \"\";position: absolute;border-left: 1px solid gray;box-sizing: border-box;top: 0;bottom: 0;left: 50%;z-index: 0;}#sk-container-id-7 div.sk-serial {display: flex;flex-direction: column;align-items: center;background-color: white;padding-right: 0.2em;padding-left: 0.2em;position: relative;}#sk-container-id-7 div.sk-item {position: relative;z-index: 1;}#sk-container-id-7 div.sk-parallel {display: flex;align-items: stretch;justify-content: center;background-color: white;position: relative;}#sk-container-id-7 div.sk-item::before, #sk-container-id-7 div.sk-parallel-item::before {content: \"\";position: absolute;border-left: 1px solid gray;box-sizing: border-box;top: 0;bottom: 0;left: 50%;z-index: -1;}#sk-container-id-7 div.sk-parallel-item {display: flex;flex-direction: column;z-index: 1;position: relative;background-color: white;}#sk-container-id-7 div.sk-parallel-item:first-child::after {align-self: flex-end;width: 50%;}#sk-container-id-7 div.sk-parallel-item:last-child::after {align-self: flex-start;width: 50%;}#sk-container-id-7 div.sk-parallel-item:only-child::after {width: 0;}#sk-container-id-7 div.sk-dashed-wrapped {border: 1px dashed gray;margin: 0 0.4em 0.5em 0.4em;box-sizing: border-box;padding-bottom: 0.4em;background-color: white;}#sk-container-id-7 div.sk-label label {font-family: monospace;font-weight: bold;display: inline-block;line-height: 1.2em;}#sk-container-id-7 div.sk-label-container {text-align: center;}#sk-container-id-7 div.sk-container {/* jupyter's `normalize.less` sets `[hidden] { display: none; }` but bootstrap.min.css set `[hidden] { display: none !important; }` so we also need the `!important` here to be able to override the default hidden behavior on the sphinx rendered scikit-learn.org. See: https://github.com/scikit-learn/scikit-learn/issues/21755 */display: inline-block !important;position: relative;}#sk-container-id-7 div.sk-text-repr-fallback {display: none;}</style><div id=\"sk-container-id-7\" class=\"sk-top-container\"><div class=\"sk-text-repr-fallback\"><pre>IsolationForest(contamination=0.05, random_state=42)</pre><b>In a Jupyter environment, please rerun this cell to show the HTML representation or trust the notebook. <br />On GitHub, the HTML representation is unable to render, please try loading this page with nbviewer.org.</b></div><div class=\"sk-container\" hidden><div class=\"sk-item\"><div class=\"sk-estimator sk-toggleable\"><input class=\"sk-toggleable__control sk-hidden--visually\" id=\"sk-estimator-id-9\" type=\"checkbox\" checked><label for=\"sk-estimator-id-9\" class=\"sk-toggleable__label sk-toggleable__label-arrow\">IsolationForest</label><div class=\"sk-toggleable__content\"><pre>IsolationForest(contamination=0.05, random_state=42)</pre></div></div></div></div></div>"
      ],
      "text/plain": [
       "IsolationForest(contamination=0.05, random_state=42)"
      ]
     },
     "execution_count": 224,
     "metadata": {},
     "output_type": "execute_result"
    }
   ],
   "source": [
    "# Fit the model on the training data\n",
    "model.fit(X_train)"
   ]
  },
  {
   "cell_type": "code",
   "execution_count": 225,
   "id": "954ed437-153c-4e51-8134-ceb6ff7fa6d7",
   "metadata": {},
   "outputs": [],
   "source": [
    "# Predict on the test set\n",
    "y_pred = model.predict(X_test)"
   ]
  },
  {
   "cell_type": "code",
   "execution_count": 226,
   "id": "0e471a69-100e-4688-b673-5ce4f0406a81",
   "metadata": {},
   "outputs": [],
   "source": [
    "# The prediction returns -1 for outliers (fraud) and 1 for inliers (normal)\n",
    "# Convert predictions to match the label format (0 and 1)\n",
    "y_pred = [1 if x == -1 else 0 for x in y_pred]"
   ]
  },
  {
   "cell_type": "code",
   "execution_count": 227,
   "id": "37ddb658-5a43-4dd9-b6f8-550642222045",
   "metadata": {},
   "outputs": [
    {
     "name": "stdout",
     "output_type": "stream",
     "text": [
      "[[180  15]\n",
      " [175  12]]\n",
      "              precision    recall  f1-score   support\n",
      "\n",
      "           0       0.51      0.92      0.65       195\n",
      "           1       0.44      0.06      0.11       187\n",
      "\n",
      "    accuracy                           0.50       382\n",
      "   macro avg       0.48      0.49      0.38       382\n",
      "weighted avg       0.48      0.50      0.39       382\n",
      "\n"
     ]
    }
   ],
   "source": [
    "# Evaluate the model\n",
    "print(confusion_matrix(y_test, y_pred))\n",
    "print(classification_report(y_test, y_pred))"
   ]
  },
  {
   "cell_type": "code",
   "execution_count": null,
   "id": "ad1bb90d-0d86-4642-a062-f9bb6e207f89",
   "metadata": {},
   "outputs": [],
   "source": []
  }
 ],
 "metadata": {
  "kernelspec": {
   "display_name": "Python 3 (ipykernel)",
   "language": "python",
   "name": "python3"
  },
  "language_info": {
   "codemirror_mode": {
    "name": "ipython",
    "version": 3
   },
   "file_extension": ".py",
   "mimetype": "text/x-python",
   "name": "python",
   "nbconvert_exporter": "python",
   "pygments_lexer": "ipython3",
   "version": "3.11.7"
  }
 },
 "nbformat": 4,
 "nbformat_minor": 5
}
